{
 "cells": [
  {
   "cell_type": "markdown",
   "metadata": {},
   "source": [
    "# Example: mesh a delineated watershed\n",
    "\n",
    "Here we mesh the [Coweeta Hydrologic Laboratory](https://www.srs.fs.usda.gov/coweeta/) as an example of how to pull data in from default locations and generate a fully functional ATS mesh.\n",
    "\n",
    "This might be the worst example to use to learn how to use Watershed Workflows.  But it is useful to demonstrate the breadth of problems this project was intended to solve.\n",
    "\n",
    "This includes a range of datasets:\n",
    "\n",
    "* NHD Plus for river network\n",
    "* NRCS soils data for soil types\n",
    "* NLCD for land cover/transpiration/rooting depths\n",
    "* NED for elevation"
   ]
  },
  {
   "cell_type": "code",
   "execution_count": 1,
   "metadata": {},
   "outputs": [],
   "source": [
    "%matplotlib inline"
   ]
  },
  {
   "cell_type": "code",
   "execution_count": 2,
   "metadata": {},
   "outputs": [],
   "source": [
    "import os,sys\n",
    "sys.path.append(os.path.abspath(\"/Users/shua784/Dropbox/github/watershed-workflow\"))\n",
    "sys.path.append(os.path.abspath(\"/Users/shua784/Dropbox/github/watershed-workflow/workflow\"))\n",
    "sys.path.append(os.path.abspath(\"/Users/shua784/Dropbox/github/watershed-workflow/workflow_tpls\"))\n",
    "sys.path.append(os.path.abspath(\"/Users/shua784/Dropbox/github/seacas/install/lib\"))"
   ]
  },
  {
   "cell_type": "code",
   "execution_count": 3,
   "metadata": {},
   "outputs": [
    {
     "name": "stderr",
     "output_type": "stream",
     "text": [
      "/Users/shua784/Dropbox/github/watershed-workflow/workflow/hilev.py:477: SyntaxWarning: \"is not\" with a literal. Did you mean \"!=\"?\n",
      "  if inhuc is not 2:\n",
      "/Users/shua784/Dropbox/github/watershed-workflow/workflow/hilev.py:527: SyntaxWarning: \"is\" with a literal. Did you mean \"==\"?\n",
      "  if len(reaches) is 0:\n",
      "/Users/shua784/Dropbox/github/watershed-workflow/workflow/hilev.py:541: SyntaxWarning: \"is\" with a literal. Did you mean \"==\"?\n",
      "  if len(rivers) is 0:\n",
      "/Users/shua784/Dropbox/github/watershed-workflow/workflow/hilev.py:557: SyntaxWarning: \"is not\" with a literal. Did you mean \"!=\"?\n",
      "  if len(rivers) is not 0:\n"
     ]
    }
   ],
   "source": [
    "import numpy as np\n",
    "from matplotlib import pyplot as plt\n",
    "from matplotlib import cm as pcm\n",
    "import shapely\n",
    "import logging\n",
    "\n",
    "import workflow\n",
    "import workflow.source_list\n",
    "import workflow.ui\n",
    "import workflow.colors\n",
    "import workflow.condition\n",
    "import workflow.mesh\n",
    "import workflow.split_hucs\n",
    "\n",
    "workflow.ui.setup_logging(1,None)\n",
    "figsize = (6,6)\n",
    "figsize_3d = (8,6)"
   ]
  },
  {
   "cell_type": "markdown",
   "metadata": {},
   "source": [
    "## Sources and setup\n",
    "\n",
    "Next we set up the source watershed and coordinate system and all data sources for our mesh.  We will use the CRS that is included in the shapefile."
   ]
  },
  {
   "cell_type": "code",
   "execution_count": 4,
   "metadata": {},
   "outputs": [
    {
     "name": "stderr",
     "output_type": "stream",
     "text": [
      "2020-08-27 14:32:22,048 - root - INFO: \n",
      "2020-08-27 14:32:22,049 - root - INFO: Meshing shape: ../data/hydrologic_units/others/Coweeta/coweeta_basin.shp\n",
      "2020-08-27 14:32:22,050 - root - INFO: ==============================\n",
      "2020-08-27 14:32:22,050 - root - INFO: \n",
      "2020-08-27 14:32:22,051 - root - INFO: Preprocessing Shapes\n",
      "2020-08-27 14:32:22,051 - root - INFO: ------------------------------\n",
      "2020-08-27 14:32:22,052 - root - INFO: loading file: \"../data/hydrologic_units/others/Coweeta/coweeta_basin.shp\"\n",
      "/opt/anaconda3/envs/watershed_workflow/lib/python3.8/site-packages/fiona/collection.py:331: FionaDeprecationWarning: Collection slicing is deprecated and will be disabled in a future version.\n",
      "  return self.session.__getitem__(item)\n"
     ]
    }
   ],
   "source": [
    "# specify the input shapefile and a hint as to what HUC it is in.\n",
    "coweeta_shapefile = '../data/hydrologic_units/others/Coweeta/coweeta_basin.shp'\n",
    "hint = '0601'  # hint: HUC 4 containing this shape.  \n",
    "               # This is necessary to avoid downloading all HUCs to search for this shape\n",
    "simplify = 30 # length scale to target average edge\n",
    "\n",
    "logging.info(\"\")\n",
    "logging.info(\"Meshing shape: {}\".format(coweeta_shapefile))\n",
    "logging.info(\"=\"*30)\n",
    "\n",
    "# get the shape and crs of the shape\n",
    "crs, coweeta = workflow.get_split_form_shapes(coweeta_shapefile)"
   ]
  },
  {
   "cell_type": "markdown",
   "metadata": {},
   "source": [
    "A wide range of data sources are available; here we use the defaults except for using NHD Plus for watershed boundaries and hydrography (the default is NHD, which is lower resolution and therefore smaller download sizes)."
   ]
  },
  {
   "cell_type": "code",
   "execution_count": 5,
   "metadata": {},
   "outputs": [
    {
     "name": "stderr",
     "output_type": "stream",
     "text": [
      "2020-08-27 14:32:22,069 - root - INFO: Using sources:\n",
      "2020-08-27 14:32:22,069 - root - INFO: --------------\n",
      "2020-08-27 14:32:22,070 - root - INFO: HUC: National Watershed Boundary Dataset (WBD)\n",
      "2020-08-27 14:32:22,070 - root - INFO: hydrography: National Hydrography Dataset (NHD)\n",
      "2020-08-27 14:32:22,070 - root - INFO: DEM: National Elevation Dataset (NED)\n",
      "2020-08-27 14:32:22,071 - root - INFO: soil type: National Resources Conservation Service Soil Survey (NRCS Soils)\n",
      "2020-08-27 14:32:22,071 - root - INFO: land cover: National Land Cover Database (NLCD) Layer: NLCD_2016_Land_Cover_L48\n",
      "2020-08-27 14:32:22,072 - root - INFO: soil thickness: None\n",
      "2020-08-27 14:32:22,072 - root - INFO: meteorology: DayMet 1km\n"
     ]
    }
   ],
   "source": [
    "# set up a dictionary of source objects\n",
    "sources = workflow.source_list.get_default_sources()\n",
    "workflow.source_list.log_sources(sources)"
   ]
  },
  {
   "cell_type": "markdown",
   "metadata": {},
   "source": [
    "## Generate the surface mesh\n",
    "\n",
    "First we'll generate the flattened, 2D triangulation, which builds on hydrography data.  Then we download a digital elevation map from the National Elevation Dataset, and extrude that 2D triangulation to a 3D surface mesh based on interpolation between pixels of the DEM."
   ]
  },
  {
   "cell_type": "code",
   "execution_count": 6,
   "metadata": {},
   "outputs": [
    {
     "name": "stderr",
     "output_type": "stream",
     "text": [
      "2020-08-27 14:32:22,082 - root - INFO: \n",
      "2020-08-27 14:32:22,082 - root - INFO: Preprocessing HUC\n",
      "2020-08-27 14:32:22,083 - root - INFO: ------------------------------\n",
      "2020-08-27 14:32:22,083 - root - INFO: Loading level 4 HUCs in 0601.\n",
      "2020-08-27 14:32:22,084 - root - INFO: Using HUC file \"/Users/shua784/Dropbox/github/watershed-workflow/examples/data/hydrography/WBD_06_GDB/WBD_06.gdb\"\n",
      "2020-08-27 14:32:22,175 - root - INFO:   found 1 HUCs.\n",
      "2020-08-27 14:32:22,176 - root - INFO:   -- 0601\n",
      "2020-08-27 14:32:22,340 - root - INFO: \n",
      "2020-08-27 14:32:22,341 - root - INFO: Preprocessing HUC\n",
      "2020-08-27 14:32:22,341 - root - INFO: ------------------------------\n",
      "2020-08-27 14:32:22,342 - root - INFO: Loading level 6 HUCs in 0601.\n",
      "2020-08-27 14:32:22,343 - root - INFO: Using HUC file \"/Users/shua784/Dropbox/github/watershed-workflow/examples/data/hydrography/WBD_06_GDB/WBD_06.gdb\"\n",
      "2020-08-27 14:32:22,382 - root - INFO:   found 2 HUCs.\n",
      "2020-08-27 14:32:22,383 - root - INFO:   -- 060102\n",
      "2020-08-27 14:32:22,383 - root - INFO:   -- 060101\n",
      "2020-08-27 14:32:22,666 - root - INFO: \n",
      "2020-08-27 14:32:22,666 - root - INFO: Preprocessing HUC\n",
      "2020-08-27 14:32:22,667 - root - INFO: ------------------------------\n",
      "2020-08-27 14:32:22,667 - root - INFO: Loading level 8 HUCs in 060102.\n",
      "2020-08-27 14:32:22,668 - root - INFO: Using HUC file \"/Users/shua784/Dropbox/github/watershed-workflow/examples/data/hydrography/WBD_06_GDB/WBD_06.gdb\"\n",
      "2020-08-27 14:32:22,728 - root - INFO:   found 8 HUCs.\n",
      "2020-08-27 14:32:22,729 - root - INFO:   -- 06010201\n",
      "2020-08-27 14:32:22,729 - root - INFO:   -- 06010207\n",
      "2020-08-27 14:32:22,730 - root - INFO:   -- 06010208\n",
      "2020-08-27 14:32:22,730 - root - INFO:   -- 06010205\n",
      "2020-08-27 14:32:22,730 - root - INFO:   -- 06010202\n",
      "2020-08-27 14:32:22,731 - root - INFO:   -- 06010203\n",
      "2020-08-27 14:32:22,731 - root - INFO:   -- 06010204\n",
      "2020-08-27 14:32:22,732 - root - INFO:   -- 06010206\n",
      "2020-08-27 14:32:23,576 - root - INFO: \n",
      "2020-08-27 14:32:23,576 - root - INFO: Preprocessing HUC\n",
      "2020-08-27 14:32:23,577 - root - INFO: ------------------------------\n",
      "2020-08-27 14:32:23,577 - root - INFO: Loading level 10 HUCs in 06010202.\n",
      "2020-08-27 14:32:23,579 - root - INFO: Using HUC file \"/Users/shua784/Dropbox/github/watershed-workflow/examples/data/hydrography/WBD_06_GDB/WBD_06.gdb\"\n",
      "2020-08-27 14:32:23,692 - root - INFO:   found 5 HUCs.\n",
      "2020-08-27 14:32:23,693 - root - INFO:   -- 0601020203\n",
      "2020-08-27 14:32:23,693 - root - INFO:   -- 0601020204\n",
      "2020-08-27 14:32:23,693 - root - INFO:   -- 0601020201\n",
      "2020-08-27 14:32:23,694 - root - INFO:   -- 0601020202\n",
      "2020-08-27 14:32:23,694 - root - INFO:   -- 0601020205\n",
      "2020-08-27 14:32:24,191 - root - INFO: \n",
      "2020-08-27 14:32:24,192 - root - INFO: Preprocessing HUC\n",
      "2020-08-27 14:32:24,192 - root - INFO: ------------------------------\n",
      "2020-08-27 14:32:24,192 - root - INFO: Loading level 12 HUCs in 0601020201.\n",
      "2020-08-27 14:32:24,193 - root - INFO: Using HUC file \"/Users/shua784/Dropbox/github/watershed-workflow/examples/data/hydrography/WBD_06_GDB/WBD_06.gdb\"\n",
      "2020-08-27 14:32:24,393 - root - INFO:   found 6 HUCs.\n",
      "2020-08-27 14:32:24,394 - root - INFO:   -- 060102020106\n",
      "2020-08-27 14:32:24,394 - root - INFO:   -- 060102020104\n",
      "2020-08-27 14:32:24,394 - root - INFO:   -- 060102020105\n",
      "2020-08-27 14:32:24,395 - root - INFO:   -- 060102020101\n",
      "2020-08-27 14:32:24,395 - root - INFO:   -- 060102020102\n",
      "2020-08-27 14:32:24,396 - root - INFO:   -- 060102020103\n",
      "2020-08-27 14:32:25,011 - root - INFO: Found Coweeta in HUC: 060102020103\n"
     ]
    }
   ],
   "source": [
    "# find what HUC our shape is in\n",
    "huc = workflow.find_huc(sources['HUC'], coweeta.exterior(), crs, hint, shrink_factor=0.1)\n",
    "logging.info(\"Found Coweeta in HUC: {}\".format(huc))"
   ]
  },
  {
   "cell_type": "code",
   "execution_count": 7,
   "metadata": {},
   "outputs": [
    {
     "name": "stderr",
     "output_type": "stream",
     "text": [
      "2020-08-27 14:32:25,018 - root - INFO: \n",
      "2020-08-27 14:32:25,019 - root - INFO: Preprocessing Hydrography\n",
      "2020-08-27 14:32:25,019 - root - INFO: ------------------------------\n",
      "2020-08-27 14:32:25,020 - root - INFO: Loading streams in HUC 060102020103\n",
      "2020-08-27 14:32:25,020 - root - INFO:          and/or bounds (273971.0911428096, 3878839.6361173145, 279140.9150949494, 3883953.7853134344)\n",
      "2020-08-27 14:32:25,021 - root - INFO: Using Hydrography file \"/Users/shua784/Dropbox/github/watershed-workflow/examples/data/hydrography/NHD_H_06010202_GDB/NHD_H_06010202.gdb\"\n",
      "2020-08-27 14:32:25,157 - root - INFO:   found 35 reaches\n",
      "2020-08-27 14:32:28,472 - root - INFO: \n",
      "2020-08-27 14:32:28,473 - root - INFO: Simplifying and pruning\n",
      "2020-08-27 14:32:28,473 - root - INFO: ------------------------------\n",
      "2020-08-27 14:32:28,474 - root - INFO: Filtering rivers outside of the HUC space\n",
      "2020-08-27 14:32:28,475 - root - INFO:   ...filtering\n",
      "2020-08-27 14:32:28,485 - root - INFO:   filtered from 34 to 21 reaches.\n",
      "2020-08-27 14:32:28,485 - root - INFO: Generate the river tree\n",
      "2020-08-27 14:32:28,488 - root - INFO: Removing rivers with fewer than 0 reaches.\n",
      "2020-08-27 14:32:28,489 - root - INFO:   ...keeping river with 21 reaches\n",
      "2020-08-27 14:32:28,489 - root - INFO: simplifying rivers\n",
      "2020-08-27 14:32:28,495 - root - INFO: simplifying HUCs\n",
      "2020-08-27 14:32:28,496 - root - INFO: snapping rivers and HUCs\n",
      "2020-08-27 14:32:28,498 - root - INFO:   snapping polygon segment boundaries to river endpoints\n",
      "2020-08-27 14:32:28,501 - root - INFO:   snapping river endpoints to the polygon\n",
      "2020-08-27 14:32:28,513 - root - INFO:   cutting at crossings\n",
      "2020-08-27 14:32:28,523 - root - INFO:   filtering rivers to HUC\n",
      "2020-08-27 14:32:28,524 - root - INFO:   ...filtering\n",
      "2020-08-27 14:32:28,529 - root - INFO: \n",
      "2020-08-27 14:32:28,529 - root - INFO: Simplification Diagnostics\n",
      "2020-08-27 14:32:28,529 - root - INFO: ------------------------------\n",
      "2020-08-27 14:32:28,533 - root - INFO:   river min seg length: 87.3714\n",
      "2020-08-27 14:32:28,533 - root - INFO:   river median seg length: 160.859\n",
      "2020-08-27 14:32:28,535 - root - INFO:   HUC min seg length: 42.195\n",
      "2020-08-27 14:32:28,535 - root - INFO:   HUC median seg length: 55.87\n"
     ]
    }
   ],
   "source": [
    "rivers = True\n",
    "if rivers:\n",
    "    # download/collect the river network within that shape's bounds\n",
    "    _, reaches = workflow.get_reaches(sources['hydrography'], huc, \n",
    "                                      coweeta.exterior().bounds, crs)\n",
    "    # simplify and prune rivers not IN the shape, constructing a tree-like data structure\n",
    "    # for the river network\n",
    "    rivers = workflow.simplify_and_prune(coweeta, reaches, filter=True, simplify=simplify, cut_intersections=True)\n",
    "\n",
    "else:\n",
    "    rivers = list()\n",
    "    workflow.split_hucs.simplify(coweeta, simplify)\n",
    "\n"
   ]
  },
  {
   "cell_type": "code",
   "execution_count": 8,
   "metadata": {},
   "outputs": [
    {
     "data": {
      "image/png": "[encoded data removed]",
      "text/plain": [
       "<Figure size 432x432 with 1 Axes>"
      ]
     },
     "metadata": {
      "needs_background": "light"
     },
     "output_type": "display_data"
    }
   ],
   "source": [
    "# plot what we have so far -- an image of the HUC and its stream network\n",
    "fig = plt.figure(figsize=figsize)\n",
    "ax = workflow.plot.get_ax(crs, fig)\n",
    "\n",
    "workflow.plot.hucs(coweeta, crs, ax=ax, color='k', linewidth=1)\n",
    "workflow.plot.rivers(rivers, crs, ax=ax, color='red', linewidth=1)\n",
    "\n",
    "plt.show()"
   ]
  },
  {
   "cell_type": "code",
   "execution_count": 9,
   "metadata": {},
   "outputs": [
    {
     "name": "stderr",
     "output_type": "stream",
     "text": [
      "2020-08-27 14:32:28,628 - root - INFO: \n",
      "2020-08-27 14:32:28,629 - root - INFO: Meshing\n",
      "2020-08-27 14:32:28,630 - root - INFO: ------------------------------\n",
      "2020-08-27 14:32:28,631 - root - INFO: Triangulating...\n",
      "2020-08-27 14:32:28,633 - root - INFO:    132 points and 132 facets\n",
      "2020-08-27 14:32:28,634 - root - INFO:  checking graph consistency\n",
      "2020-08-27 14:32:28,635 - root - INFO:  tolerance is set to 1\n",
      "2020-08-27 14:32:28,636 - root - INFO:  building graph data structures\n",
      "2020-08-27 14:32:28,638 - root - INFO:  triangle.build...\n",
      "2020-08-27 14:32:28,639 - root - WARNING: Triangulate: '--enforce-delaunay' option requires a hacked `meshpy.triangle`.  Proceeding without this option because it is not recognized.\n",
      "2020-08-27 14:32:35,552 - root - INFO:   ...built: 8171 mesh points and 16119 triangles\n",
      "2020-08-27 14:32:35,552 - root - INFO: Plotting triangulation diagnostics\n",
      "2020-08-27 14:32:36,583 - root - INFO:   min area = 209.30328369140625\n",
      "2020-08-27 14:32:36,585 - root - INFO:   max area = 4933.600646972656\n"
     ]
    },
    {
     "data": {
      "image/png": "[encoded data removed]",
      "text/plain": [
       "<Figure size 432x288 with 2 Axes>"
      ]
     },
     "metadata": {
      "needs_background": "light"
     },
     "output_type": "display_data"
    }
   ],
   "source": [
    "# form a triangulation on the shape + river network\n",
    "\n",
    "# triangulation refinement:\n",
    "# Refine triangles if their area (in m^2) is greater than A(d), where d is the \n",
    "# distance from the triangle centroid to the nearest stream.\n",
    "# A(d) is a piecewise linear function -- A = A0 if d <= d0, A = A1 if d >= d1, and\n",
    "# linearly interpolates between the two endpoints.\n",
    "d0 = 100; d1 = 500\n",
    "A0 = 1000; A1 = 5000\n",
    "#A0 = 500; A1 = 2500\n",
    "#A0 = 100; A1 = 500\n",
    "\n",
    "# Refine triangles if they get too acute\n",
    "min_angle = 32 # degrees\n",
    "\n",
    "# make 2D mesh\n",
    "mesh_points2, mesh_tris, d = workflow.triangulate(coweeta, rivers, \n",
    "                                               refine_distance=[d0,A0,d1,A1],\n",
    "                                               refine_min_angle=min_angle,\n",
    "                                               enforce_delaunay=True,\n",
    "                                               diagnostics=True)\n",
    "#mesh_points2, mesh_tris, d = workflow.triangulate(coweeta, rivers,\n",
    "#                                                 refine_max_area=100000,\n",
    "#                                                 enforce_delaunay=True,\n",
    "#                                                 diagnostics=True)"
   ]
  },
  {
   "cell_type": "code",
   "execution_count": 11,
   "metadata": {},
   "outputs": [
    {
     "name": "stderr",
     "output_type": "stream",
     "text": [
      "2020-08-27 14:27:22,508 - root - INFO: \n",
      "2020-08-27 14:27:22,509 - root - INFO: Preprocessing Raster\n",
      "2020-08-27 14:27:22,509 - root - INFO: ------------------------------\n",
      "2020-08-27 14:27:22,510 - root - INFO: collecting raster\n",
      "2020-08-27 14:27:22,620 - root - INFO: Collecting DEMs to tile bounds: [-83.48845037186388, 35.01734099944037, -83.41165773504302, 35.08381933600275]\n",
      "2020-08-27 14:27:22,621 - root - INFO:   Need:\n",
      "2020-08-27 14:27:22,621 - root - INFO:     /Users/shua784/Dropbox/github/watershed-workflow/examples/data/dem/USGS_NED_1as_n36_w084.img\n",
      "2020-08-27 14:27:22,630 - root - INFO: Got raster of shape: (240, 277)\n",
      "2020-08-27 14:27:22,631 - root - INFO: Raster bounds: (-83.48845037186388, 35.08381933600275, -83.41150592741688, 35.01715266933386)\n",
      "2020-08-27 14:27:22,631 - root - INFO: \n",
      "2020-08-27 14:27:22,631 - root - INFO: Elevating Triangulation to DEM\n",
      "2020-08-27 14:27:22,632 - root - INFO: ------------------------------\n"
     ]
    }
   ],
   "source": [
    "# get a raster for the elevation map, based on NED\n",
    "dem_profile, dem = workflow.get_raster_on_shape(sources['DEM'], coweeta.exterior(), crs)\n",
    "\n",
    "# elevate the triangle nodes to the dem\n",
    "mesh_points3 = workflow.elevate(mesh_points2, crs, dem, dem_profile)"
   ]
  },
  {
   "cell_type": "markdown",
   "metadata": {},
   "source": [
    "Plotting the resulting mesh can be done in a variety of ways, including both 3D plots and mapview.  We show both here, but hereafter use mapview plots as they are a bit clearer (if not so flashy)..."
   ]
  },
  {
   "cell_type": "code",
   "execution_count": null,
   "metadata": {},
   "outputs": [],
   "source": [
    "# plot the resulting surface mesh\n",
    "fig = plt.figure(figsize=figsize_3d)\n",
    "ax = workflow.plot.get_ax('3d', fig, window=[0.0,0.2,1,0.8])\n",
    "cax = fig.add_axes([0.23,0.18,0.58,0.03])\n",
    "\n",
    "mp = ax.plot_trisurf(mesh_points3[:,0], mesh_points3[:,1], mesh_points3[:,2], \n",
    "                     triangles=mesh_tris, cmap='viridis', \n",
    "                     edgecolor=(0,0,0,.2), linewidth=0.5)\n",
    "cb = fig.colorbar(mp, orientation=\"horizontal\", cax=cax)\n",
    "\n",
    "t = cax.set_title('elevation [m]')\n",
    "ax.view_init(55,0)\n",
    "ax.set_xticklabels(list())\n",
    "ax.set_yticklabels(list())\n",
    "\n",
    "#fig.savefig('coweeta_dem_3d')"
   ]
  },
  {
   "cell_type": "code",
   "execution_count": null,
   "metadata": {},
   "outputs": [],
   "source": [
    "# plot the resulting surface mesh\n",
    "fig = plt.figure(figsize=figsize)\n",
    "ax = workflow.plot.get_ax(crs, fig, window=[0.05,0.1,0.9,0.8])\n",
    "#ax2 = workflow.plot.get_ax(crs,fig, window=[0.65,0.05,0.3,0.5])\n",
    "ax2 = ax.inset_axes([0.65,0.05,0.3,0.5])\n",
    "cbax = fig.add_axes([0.05,0.05,0.9,0.05])\n",
    "\n",
    "xlim = (275900., 276400.)\n",
    "ylim = (3882300., 3883000.)\n",
    "\n",
    "mp = workflow.plot.triangulation(mesh_points3, mesh_tris, crs, ax=ax, \n",
    "                                 color='elevation', edgecolor='white', linewidth=0.2)\n",
    "cbar = fig.colorbar(mp, orientation=\"horizontal\", cax=cbax)\n",
    "workflow.plot.hucs(coweeta, crs, ax=ax, color='k', linewidth=1)\n",
    "workflow.plot.rivers(rivers, crs, ax=ax, color='red', linewidth=1)\n",
    "ax.set_aspect('equal', 'datalim')\n",
    "\n",
    "mp2 = workflow.plot.triangulation(mesh_points3, mesh_tris, crs, ax=ax2, \n",
    "                                 color='elevation', edgecolor='white', linewidth=0.2)\n",
    "workflow.plot.hucs(coweeta, crs, ax=ax2, color='k', linewidth=1)\n",
    "workflow.plot.rivers(rivers, crs, ax=ax2, color='red', linewidth=1.5)\n",
    "ax2.set_xlim(xlim)\n",
    "ax2.set_ylim(ylim)\n",
    "ax2.set_xticks([])\n",
    "ax2.set_yticks([])\n",
    "\n",
    "ax.indicate_inset_zoom(ax2, edgecolor='k')\n",
    "\n",
    "\n",
    "print(ax.get_xlim())\n",
    "print(ax.get_ylim())\n",
    "cbar.ax.set_title('elevation [m]')\n",
    "# fig.savefig('coweeta_dem2')"
   ]
  },
  {
   "cell_type": "code",
   "execution_count": null,
   "metadata": {},
   "outputs": [],
   "source": [
    "# construct the 2D mesh\n",
    "m2 = workflow.mesh.Mesh2D(mesh_points3.copy(), list(mesh_tris))"
   ]
  },
  {
   "cell_type": "code",
   "execution_count": null,
   "metadata": {},
   "outputs": [],
   "source": [
    "# hydrologically condition the mesh\n",
    "workflow.condition.condition(m2)\n",
    "\n",
    "# plot the change between the two meshes\n",
    "diff = np.copy(mesh_points3)\n",
    "diff[:,2] = m2.points[:,2] - mesh_points3[:,2] \n",
    "print(\"max diff = \", np.abs(diff[:,2]).max())\n",
    "fig, ax = workflow.plot.get_ax(crs, figsize=figsize)\n",
    "workflow.plot.triangulation(diff, m2.conn, crs, color='elevation', edgecolors='gray', \n",
    "                            linewidth=0.2, ax=ax)\n",
    "ax.set_title('conditioned dz')\n",
    "plt.show()"
   ]
  },
  {
   "cell_type": "markdown",
   "metadata": {},
   "source": [
    "## Surface properties\n",
    "\n",
    "Meshes interact with data to provide forcing, parameters, and more in the actual simulation.  Specifically, we need vegetation type on the surface to provide information about transpiration and subsurface structure to provide information about water retention curves, etc.\n",
    "\n",
    "We'll start by downloading and collecting land cover from the NLCD dataset, and generate sets for each land cover type that cover the surface.  Likely these will be some combination of grass, deciduous forest, coniferous forest, and mixed."
   ]
  },
  {
   "cell_type": "code",
   "execution_count": null,
   "metadata": {},
   "outputs": [],
   "source": [
    "# download the NLCD raster\n",
    "lc_profile, lc_raster = workflow.get_raster_on_shape(sources['land cover'], \n",
    "                                                     coweeta.exterior(), crs)\n",
    "\n",
    "# resample the raster to the triangles\n",
    "lc = workflow.values_from_raster(m2.centroids(), crs, lc_raster, lc_profile)\n",
    "\n",
    "# what land cover types did we get?\n",
    "logging.info('Found land cover dtypes: {}'.format(lc.dtype))\n",
    "logging.info('Found land cover types: {}'.format(set(lc)))\n"
   ]
  },
  {
   "cell_type": "code",
   "execution_count": null,
   "metadata": {},
   "outputs": [],
   "source": [
    "# plot the NLCD data\n",
    "\n",
    "# -- get the NLCD colormap which uses official NLCD colors and labels\n",
    "nlcd_indices, nlcd_cmap, nlcd_norm, nlcd_ticks, nlcd_labels = \\\n",
    "                workflow.colors.generate_nlcd_colormap(lc)\n",
    "\n",
    "# this is just hacking the label names to make them display a bit neater for a cleaner plot\n",
    "nlcd_labels_fw = []\n",
    "for label in nlcd_labels:\n",
    "    label_fw = label\n",
    "    if len(label) > 15:\n",
    "        if ' ' in label:\n",
    "            lsplit = label.split()\n",
    "            if len(lsplit) == 2:\n",
    "                label_fw = '\\n'.join(lsplit)\n",
    "            elif len(lsplit) == 4:\n",
    "                label_fw = '\\n'.join([' '.join(lsplit[0:2]),\n",
    "                                      ' '.join(lsplit[2:])])\n",
    "            elif len(lsplit) == 3:\n",
    "                if len(lsplit[0]) > len(lsplit[-1]):\n",
    "                    label_fw = '\\n'.join([lsplit[0],\n",
    "                                          ' '.join(lsplit[1:])])\n",
    "                else:\n",
    "                    label_fw = '\\n'.join([' '.join(lsplit[:-1]),\n",
    "                                          lsplit[-1]])\n",
    "    nlcd_labels_fw.append(label_fw)\n",
    "\n",
    "# plot the image\n",
    "fig = plt.figure(figsize=figsize)\n",
    "ax = workflow.plot.get_ax(crs, fig)\n",
    "\n",
    "polys = workflow.plot.mesh(m2, crs, ax=ax, color=lc, cmap=nlcd_cmap, norm=nlcd_norm, edgecolor='none', \n",
    "                                     facecolor='color', linewidth=0.5)\n",
    "mp = pcm.ScalarMappable(norm=nlcd_norm, cmap=nlcd_cmap)\n",
    "cb = fig.colorbar(mp)\n",
    "cb.set_ticks(nlcd_ticks)\n",
    "cb.set_ticklabels(nlcd_labels_fw)\n",
    "ax.set_title(\"land cover index\")\n",
    "# fig.savefig('coweeta_nlcd')"
   ]
  },
  {
   "cell_type": "markdown",
   "metadata": {},
   "source": [
    "## Subsurface properties\n",
    "\n",
    "Get soil structure from SSURGO"
   ]
  },
  {
   "cell_type": "code",
   "execution_count": null,
   "metadata": {},
   "outputs": [],
   "source": [
    "# download the NRCS soils data as shapes and project it onto the mesh\n",
    "import workflow.sources.manager_nrcs\n",
    "import matplotlib.cm\n",
    "\n",
    "# -- download the shapes\n",
    "target_bounds = coweeta.exterior().bounds\n",
    "_, soil_survey = workflow.get_shapes(sources['soil type'], target_bounds, crs)\n",
    "\n",
    "# -- log the bounds targetted and found\n",
    "logging.info('target bounds: {}'.format(target_bounds))\n",
    "logging.info('shape union bounds: {}'.format(\n",
    "    shapely.ops.cascaded_union(soil_survey).bounds))\n",
    "\n",
    "# -- determine the NRCS mukey for each soil unit; this uniquely identifies soil \n",
    "#    properties\n",
    "soil_ids = np.array([shp.properties['id'] for shp in soil_survey], np.int32)\n",
    "\n",
    "# -- color a raster by the polygons (this makes identifying a triangle's value much \n",
    "#    more efficient)\n",
    "soil_color_raster, soil_color_profile, img_bounds = \\\n",
    "            workflow.color_raster_from_shapes(target_bounds, 10, soil_survey,\n",
    "                                              soil_ids, crs)\n",
    "\n",
    "# -- resample the raster to the triangles\n",
    "soil_color = workflow.values_from_raster(m2.centroids(), crs, \n",
    "                                         soil_color_raster, soil_color_profile)"
   ]
  },
  {
   "cell_type": "code",
   "execution_count": null,
   "metadata": {},
   "outputs": [],
   "source": [
    "# plot the soil data\n",
    "fig = plt.figure(figsize=figsize)\n",
    "ax = workflow.plot.get_ax(crs, fig)\n",
    "\n",
    "mp = workflow.plot.mesh(m2, crs, ax=ax, facecolor='color',\n",
    "                                 linewidth=0, color=soil_color, cmap='tab20c')\n",
    "ax.set_title('soil type index')\n",
    "\n",
    "# fig.savefig('coweeta_soils')"
   ]
  },
  {
   "cell_type": "markdown",
   "metadata": {},
   "source": [
    "## Mesh extrusion\n",
    "\n",
    "Given the surface mesh and material IDs on both the surface and subsurface, we can extrude the surface mesh in the vertical to make a 3D mesh."
   ]
  },
  {
   "cell_type": "code",
   "execution_count": null,
   "metadata": {},
   "outputs": [],
   "source": [
    "# layer extrusion\n",
    "# -- data structures needed for extrusion\n",
    "layer_types = []\n",
    "layer_data = []\n",
    "layer_ncells = []\n",
    "layer_mat_ids = []\n",
    "z = 0.0\n",
    "\n",
    "# -- soil layer --\n",
    "#  top 6 m\n",
    "#  5 cm initial top cell\n",
    "#  10 cells\n",
    "#  expanding dz, growing with depth\n",
    "ncells = 9\n",
    "dz = 0.05\n",
    "layer_dz = 4\n",
    "\n",
    "tele = workflow.mesh.telescope_factor(ncells, dz, layer_dz)\n",
    "print(\"Got telescoping factor: {}\".format(tele))\n",
    "for i in range(ncells):\n",
    "    layer_types.append('constant')\n",
    "    layer_data.append(dz)\n",
    "    layer_ncells.append(1)\n",
    "    layer_mat_ids.append(soil_color)\n",
    "    z += dz\n",
    "    dz *= tele\n",
    "    \n",
    "# one more 2m layer makes 6m\n",
    "dz = 2.0\n",
    "layer_types.append('constant')\n",
    "layer_data.append(dz)\n",
    "layer_ncells.append(1)\n",
    "layer_mat_ids.append(soil_color)\n",
    "z += dz\n",
    "\n",
    "# -- geologic layer --\n",
    "# keep going for 2m cells until we hit the bottom of\n",
    "# the domain\n",
    "layer_types.append(\"constant\")\n",
    "layer_data.append(40 - z) # depth of bottom of domain is 40 m\n",
    "layer_ncells.append(int(round(layer_data[-1] / dz)))\n",
    "layer_mat_ids.append(999*np.ones_like(soil_color))\n",
    "\n",
    "# print the summary\n",
    "workflow.mesh.Mesh3D.summarize_extrusion(layer_types, layer_data, \n",
    "                                            layer_ncells, layer_mat_ids)"
   ]
  },
  {
   "cell_type": "code",
   "execution_count": null,
   "metadata": {},
   "outputs": [],
   "source": [
    "# extrude\n",
    "m3 = workflow.mesh.Mesh3D.extruded_Mesh2D(m2, layer_types, layer_data, \n",
    "                                             layer_ncells, layer_mat_ids)"
   ]
  },
  {
   "cell_type": "code",
   "execution_count": null,
   "metadata": {},
   "outputs": [],
   "source": [
    "# add back on land cover side sets\n",
    "surf_ss = m3.side_sets[1]\n",
    "\n",
    "for index, name in zip(nlcd_indices, nlcd_labels):\n",
    "    where = np.where(lc == index)[0]\n",
    "    ss = workflow.mesh.SideSet(name, int(index), \n",
    "                            [surf_ss.elem_list[w] for w in where],\n",
    "                            [surf_ss.side_list[w] for w in where])        \n",
    "    m3.side_sets.append(ss)"
   ]
  },
  {
   "cell_type": "code",
   "execution_count": null,
   "metadata": {},
   "outputs": [],
   "source": [
    "# save to disk\n",
    "try:\n",
    "    os.remove('coweeta_basin.exo')\n",
    "except FileNotFoundError:\n",
    "    pass\n",
    "m3.write_exodus('coweeta_basin.exo')"
   ]
  },
  {
   "cell_type": "code",
   "execution_count": null,
   "metadata": {},
   "outputs": [],
   "source": []
  }
 ],
 "metadata": {
  "kernelspec": {
   "display_name": "workflow",
   "language": "python",
   "name": "watershed_workflow"
  },
  "language_info": {
   "codemirror_mode": {
    "name": "ipython",
    "version": 3
   },
   "file_extension": ".py",
   "mimetype": "text/x-python",
   "name": "python",
   "nbconvert_exporter": "python",
   "pygments_lexer": "ipython3",
   "version": "3.8.3"
  }
 },
 "nbformat": 4,
 "nbformat_minor": 4
}
