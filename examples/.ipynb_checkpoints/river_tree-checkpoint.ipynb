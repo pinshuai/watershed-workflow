{
 "cells": [
  {
   "cell_type": "markdown",
   "metadata": {},
   "source": [
    "# River Tree\n",
    "\n",
    "An example workflow for gathering NHD Plus data and generating a tree."
   ]
  },
  {
   "cell_type": "code",
   "execution_count": 1,
   "metadata": {},
   "outputs": [],
   "source": [
    "import os,sys\n",
    "import numpy as np\n",
    "from matplotlib import pyplot as plt\n",
    "import shapely\n",
    "import logging\n",
    "\n",
    "import workflow\n",
    "import workflow.source_list\n",
    "import workflow.conf\n",
    "import workflow.ui\n",
    "import workflow.utils\n",
    "import workflow.plot\n",
    "\n",
    "workflow.conf.rcParams['data dir'] = os.path.join(os.getcwd(),'..','data')\n",
    "\n",
    "workflow.ui.setup_logging(1,None)"
   ]
  },
  {
   "cell_type": "code",
   "execution_count": 2,
   "metadata": {},
   "outputs": [],
   "source": [
    "# open a shapefile for use here\n",
    "manager_shp = workflow.source_list.FileManagerShape('../data/hydrologic_units/others/Coweeta/coweeta_basin.shp')\n",
    "shp_profile,shp = manager_shp.get_shape()\n",
    "shply = workflow.utils.shply(shp)"
   ]
  },
  {
   "cell_type": "code",
   "execution_count": 3,
   "metadata": {},
   "outputs": [
    {
     "name": "stderr",
     "output_type": "stream",
     "text": [
      "2019-08-01 23:35:08,382 - root - INFO: \n",
      "2019-08-01 23:35:08,384 - root - INFO: Preprocessing Hydrography\n",
      "2019-08-01 23:35:08,385 - root - INFO: ------------------------------\n",
      "2019-08-01 23:35:08,386 - root - INFO: loading streams in bounds (273971.0911428096, 3878839.6361173145, 279140.9150949494, 3883953.7853134344)\n",
      "2019-08-01 23:35:08,389 - root - INFO: Using Hydrography file \"/Users/uec/research/water/data/meshing/examples/../data/hydrography/NHDPlus_H_0601_GDB/NHDPlus_H_0601.gdb\"\n",
      "2019-08-01 23:35:09,903 - root - INFO:   ...filtering\n"
     ]
    }
   ],
   "source": [
    "# find the rivers in this shape\n",
    "reaches, _ = workflow.get_rivers_by_bounds(workflow.source_list.hydrography_sources['NHD Plus'],\n",
    "                                               shply.bounds, shp_profile['crs'], '0601', merge=False)\n",
    "\n",
    "# filter the list to only those that intersect the shape\n",
    "reaches = workflow.hydrography.filter_rivers_to_shape(shply, reaches, 10)\n",
    "\n",
    "# make the global tree\n",
    "rivers = workflow.hydrography.make_global_tree(reaches)\n",
    "\n",
    "# check that only one tree was formed (this means al)\n",
    "assert(len(rivers) is 1)\n",
    "river = rivers[0]"
   ]
  },
  {
   "cell_type": "code",
   "execution_count": 4,
   "metadata": {},
   "outputs": [
    {
     "data": {
      "image/png": "[encoded data removed]",
      "text/plain": [
       "<Figure size 432x288 with 1 Axes>"
      ]
     },
     "metadata": {
      "needs_background": "light"
     },
     "output_type": "display_data"
    }
   ],
   "source": [
    "workflow.plot.rivers([river,], shp_profile['crs'])"
   ]
  },
  {
   "cell_type": "code",
   "execution_count": 5,
   "metadata": {},
   "outputs": [
    {
     "name": "stdout",
     "output_type": "stream",
     "text": [
      "OrderedDict([('Permanent_Identifier', '90511868'), ('FDate', '2011-12-21T03:18:18'), ('Resolution', 2), ('GNIS_ID', '01010529'), ('GNIS_Name', 'Coweeta Creek'), ('LengthKM', 2.825), ('ReachCode', '06010202000091'), ('FlowDir', 1), ('WBArea_Permanent_Identifier', None), ('FType', 460), ('FCode', 46006), ('MainPath', 0), ('InNetwork', 1), ('VisibilityFilter', 2000000), ('Shape_Length', 0.02933313696587409), ('NHDPlusID', 25000400040729.0), ('VPUID', '0601'), ('Enabled', 1)])\n",
      "OrderedDict([('Permanent_Identifier', '90511918'), ('FDate', '2011-12-21T03:18:20'), ('Resolution', 2), ('GNIS_ID', '01008893'), ('GNIS_Name', 'Ball Creek'), ('LengthKM', 0.619), ('ReachCode', '06010202000092'), ('FlowDir', 1), ('WBArea_Permanent_Identifier', None), ('FType', 460), ('FCode', 46006), ('MainPath', 0), ('InNetwork', 1), ('VisibilityFilter', 500000), ('Shape_Length', 0.006007203236050549), ('NHDPlusID', 25000400108020.0), ('VPUID', '0601'), ('Enabled', 1)])\n",
      "OrderedDict([('Permanent_Identifier', '90511928'), ('FDate', '2011-12-21T03:18:20'), ('Resolution', 2), ('GNIS_ID', '01008893'), ('GNIS_Name', 'Ball Creek'), ('LengthKM', 0.277), ('ReachCode', '06010202000092'), ('FlowDir', 1), ('WBArea_Permanent_Identifier', None), ('FType', 460), ('FCode', 46006), ('MainPath', 0), ('InNetwork', 1), ('VisibilityFilter', 500000), ('Shape_Length', 0.0028292168551516204), ('NHDPlusID', 25000400040724.0), ('VPUID', '0601'), ('Enabled', 1)])\n",
      "OrderedDict([('Permanent_Identifier', '90512036'), ('FDate', '2011-12-21T03:18:23'), ('Resolution', 2), ('GNIS_ID', '01008893'), ('GNIS_Name', 'Ball Creek'), ('LengthKM', 1.97), ('ReachCode', '06010202000372'), ('FlowDir', 1), ('WBArea_Permanent_Identifier', None), ('FType', 460), ('FCode', 46006), ('MainPath', 0), ('InNetwork', 1), ('VisibilityFilter', 250000), ('Shape_Length', 0.020068080745982632), ('NHDPlusID', 25000400007107.0), ('VPUID', '0601'), ('Enabled', 1)])\n",
      "OrderedDict([('Permanent_Identifier', '90512082'), ('FDate', '2011-12-21T03:18:23'), ('Resolution', 2), ('GNIS_ID', None), ('GNIS_Name', None), ('LengthKM', 0.8190000000000001), ('ReachCode', '06010202002859'), ('FlowDir', 1), ('WBArea_Permanent_Identifier', None), ('FType', 460), ('FCode', 46006), ('MainPath', 0), ('InNetwork', 1), ('VisibilityFilter', 100000), ('Shape_Length', 0.007426501094440895), ('NHDPlusID', 25000400007106.0), ('VPUID', '0601'), ('Enabled', 1)])\n",
      "OrderedDict([('Permanent_Identifier', '90512108'), ('FDate', '2011-12-21T03:18:23'), ('Resolution', 2), ('GNIS_ID', '01008893'), ('GNIS_Name', 'Ball Creek'), ('LengthKM', 1.655), ('ReachCode', '06010202000372'), ('FlowDir', 1), ('WBArea_Permanent_Identifier', None), ('FType', 460), ('FCode', 46006), ('MainPath', 0), ('InNetwork', 1), ('VisibilityFilter', 250000), ('Shape_Length', 0.016249967638654387), ('NHDPlusID', 25000400175089.0), ('VPUID', '0601'), ('Enabled', 1)])\n",
      "OrderedDict([('Permanent_Identifier', '90512044'), ('FDate', '2011-12-21T03:18:23'), ('Resolution', 2), ('GNIS_ID', '01011984'), ('GNIS_Name', 'Henson Creek'), ('LengthKM', 2.9), ('ReachCode', '06010202000093'), ('FlowDir', 1), ('WBArea_Permanent_Identifier', None), ('FType', 460), ('FCode', 46006), ('MainPath', 0), ('InNetwork', 1), ('VisibilityFilter', 100000), ('Shape_Length', 0.03030158464830459), ('NHDPlusID', 25000400074075.0), ('VPUID', '0601'), ('Enabled', 1)])\n",
      "OrderedDict([('Permanent_Identifier', '90512112'), ('FDate', '2011-12-21T03:18:23'), ('Resolution', 2), ('GNIS_ID', '01011984'), ('GNIS_Name', 'Henson Creek'), ('LengthKM', 1.1680000000000001), ('ReachCode', '06010202000093'), ('FlowDir', 1), ('WBArea_Permanent_Identifier', None), ('FType', 460), ('FCode', 46006), ('MainPath', 0), ('InNetwork', 1), ('VisibilityFilter', 0), ('Shape_Length', 0.011012279803125276), ('NHDPlusID', 25000400107798.0), ('VPUID', '0601'), ('Enabled', 1)])\n",
      "OrderedDict([('Permanent_Identifier', '90511978'), ('FDate', '2011-12-21T03:18:22'), ('Resolution', 2), ('GNIS_ID', None), ('GNIS_Name', None), ('LengthKM', 0.9450000000000001), ('ReachCode', '06010202002843'), ('FlowDir', 1), ('WBArea_Permanent_Identifier', None), ('FType', 460), ('FCode', 46006), ('MainPath', 0), ('InNetwork', 1), ('VisibilityFilter', 100000), ('Shape_Length', 0.008785810565916707), ('NHDPlusID', 25000400108019.0), ('VPUID', '0601'), ('Enabled', 1)])\n",
      "OrderedDict([('Permanent_Identifier', '90511866'), ('FDate', '2011-12-21T03:18:18'), ('Resolution', 2), ('GNIS_ID', '01015479'), ('GNIS_Name', 'Shope Fork'), ('LengthKM', 1.092), ('ReachCode', '06010202000369'), ('FlowDir', 1), ('WBArea_Permanent_Identifier', None), ('FType', 460), ('FCode', 46006), ('MainPath', 0), ('InNetwork', 1), ('VisibilityFilter', 500000), ('Shape_Length', 0.011570165507744527), ('NHDPlusID', 25000400175304.0), ('VPUID', '0601'), ('Enabled', 1)])\n",
      "OrderedDict([('Permanent_Identifier', '90511846'), ('FDate', '2011-12-21T03:18:18'), ('Resolution', 2), ('GNIS_ID', None), ('GNIS_Name', None), ('LengthKM', 1.0450000000000002), ('ReachCode', '06010202002819'), ('FlowDir', 1), ('WBArea_Permanent_Identifier', None), ('FType', 460), ('FCode', 46006), ('MainPath', 0), ('InNetwork', 1), ('VisibilityFilter', 100000), ('Shape_Length', 0.009894541322192156), ('NHDPlusID', 25000400040725.0), ('VPUID', '0601'), ('Enabled', 1)])\n",
      "OrderedDict([('Permanent_Identifier', '90511870'), ('FDate', '2011-12-21T03:18:18'), ('Resolution', 2), ('GNIS_ID', '01015479'), ('GNIS_Name', 'Shope Fork'), ('LengthKM', 0.42100000000000004), ('ReachCode', '06010202000369'), ('FlowDir', 1), ('WBArea_Permanent_Identifier', None), ('FType', 460), ('FCode', 46006), ('MainPath', 0), ('InNetwork', 1), ('VisibilityFilter', 500000), ('Shape_Length', 0.004264916720386313), ('NHDPlusID', 25000400007320.0), ('VPUID', '0601'), ('Enabled', 1)])\n",
      "OrderedDict([('Permanent_Identifier', '90511876'), ('FDate', '2011-12-21T03:18:18'), ('Resolution', 2), ('GNIS_ID', '01015479'), ('GNIS_Name', 'Shope Fork'), ('LengthKM', 0.165), ('ReachCode', '06010202000370'), ('FlowDir', 1), ('WBArea_Permanent_Identifier', None), ('FType', 460), ('FCode', 46006), ('MainPath', 0), ('InNetwork', 1), ('VisibilityFilter', 250000), ('Shape_Length', 0.0018043963180130245), ('NHDPlusID', 25000400074306.0), ('VPUID', '0601'), ('Enabled', 1)])\n",
      "OrderedDict([('Permanent_Identifier', '90511878'), ('FDate', '2011-12-21T03:18:20'), ('Resolution', 2), ('GNIS_ID', '01009991'), ('GNIS_Name', 'Camprock Branch'), ('LengthKM', 1.2910000000000001), ('ReachCode', '06010202002822'), ('FlowDir', 1), ('WBArea_Permanent_Identifier', None), ('FType', 460), ('FCode', 46006), ('MainPath', 0), ('InNetwork', 1), ('VisibilityFilter', 100000), ('Shape_Length', 0.01301040698009797), ('NHDPlusID', 25000400007109.0), ('VPUID', '0601'), ('Enabled', 1)])\n",
      "OrderedDict([('Permanent_Identifier', '90511902'), ('FDate', '2011-12-21T03:18:18'), ('Resolution', 2), ('GNIS_ID', '01015479'), ('GNIS_Name', 'Shope Fork'), ('LengthKM', 0.9870000000000001), ('ReachCode', '06010202000370'), ('FlowDir', 1), ('WBArea_Permanent_Identifier', None), ('FType', 460), ('FCode', 46006), ('MainPath', 0), ('InNetwork', 1), ('VisibilityFilter', 250000), ('Shape_Length', 0.010667588570320843), ('NHDPlusID', 25000400074076.0), ('VPUID', '0601'), ('Enabled', 1)])\n",
      "OrderedDict([('Permanent_Identifier', '90511926'), ('FDate', '2011-12-21T03:18:18'), ('Resolution', 2), ('GNIS_ID', '01015479'), ('GNIS_Name', 'Shope Fork'), ('LengthKM', 0.765), ('ReachCode', '06010202000370'), ('FlowDir', 1), ('WBArea_Permanent_Identifier', None), ('FType', 460), ('FCode', 46006), ('MainPath', 0), ('InNetwork', 1), ('VisibilityFilter', 0), ('Shape_Length', 0.008081500797913782), ('NHDPlusID', 25000400007108.0), ('VPUID', '0601'), ('Enabled', 1)])\n",
      "OrderedDict([('Permanent_Identifier', '90511930'), ('FDate', '2011-12-21T03:18:20'), ('Resolution', 2), ('GNIS_ID', '01014469'), ('GNIS_Name', 'Pinnacle Branch'), ('LengthKM', 1.0350000000000001), ('ReachCode', '06010202002834'), ('FlowDir', 1), ('WBArea_Permanent_Identifier', None), ('FType', 460), ('FCode', 46006), ('MainPath', 0), ('InNetwork', 1), ('VisibilityFilter', 100000), ('Shape_Length', 0.011390885255323774), ('NHDPlusID', 25000400040325.0), ('VPUID', '0601'), ('Enabled', 1)])\n",
      "OrderedDict([('Permanent_Identifier', '90512022'), ('FDate', '2011-12-21T03:18:18'), ('Resolution', 2), ('GNIS_ID', '01015479'), ('GNIS_Name', 'Shope Fork'), ('LengthKM', 1.173), ('ReachCode', '06010202000370'), ('FlowDir', 1), ('WBArea_Permanent_Identifier', None), ('FType', 460), ('FCode', 46006), ('MainPath', 0), ('InNetwork', 1), ('VisibilityFilter', 100000), ('Shape_Length', 0.01090783980118138), ('NHDPlusID', 25000400141373.0), ('VPUID', '0601'), ('Enabled', 1)])\n",
      "OrderedDict([('Permanent_Identifier', '90511896'), ('FDate', '2011-12-21T03:18:20'), ('Resolution', 2), ('GNIS_ID', None), ('GNIS_Name', None), ('LengthKM', 0.787), ('ReachCode', '06010202002827'), ('FlowDir', 1), ('WBArea_Permanent_Identifier', None), ('FType', 460), ('FCode', 46006), ('MainPath', 0), ('InNetwork', 1), ('VisibilityFilter', 50000), ('Shape_Length', 0.007663308365762772), ('NHDPlusID', 25000400175091.0), ('VPUID', '0601'), ('Enabled', 1)])\n",
      "OrderedDict([('Permanent_Identifier', '90511924'), ('FDate', '2011-12-21T03:18:20'), ('Resolution', 2), ('GNIS_ID', '01010615'), ('GNIS_Name', 'Cunningham Creek'), ('LengthKM', 0.775), ('ReachCode', '06010202000371'), ('FlowDir', 1), ('WBArea_Permanent_Identifier', None), ('FType', 460), ('FCode', 46006), ('MainPath', 0), ('InNetwork', 1), ('VisibilityFilter', 100000), ('Shape_Length', 0.00785105614440285), ('NHDPlusID', 25000400175090.0), ('VPUID', '0601'), ('Enabled', 1)])\n",
      "OrderedDict([('Permanent_Identifier', '90511940'), ('FDate', '2011-12-21T03:18:20'), ('Resolution', 2), ('GNIS_ID', '01013534'), ('GNIS_Name', 'Mill Branch'), ('LengthKM', 0.871), ('ReachCode', '06010202002837'), ('FlowDir', 1), ('WBArea_Permanent_Identifier', None), ('FType', 460), ('FCode', 46006), ('MainPath', 0), ('InNetwork', 1), ('VisibilityFilter', 50000), ('Shape_Length', 0.00949783326393551), ('NHDPlusID', 25000400208871.0), ('VPUID', '0601'), ('Enabled', 1)])\n",
      "OrderedDict([('Permanent_Identifier', '90512004'), ('FDate', '2011-12-21T03:18:20'), ('Resolution', 2), ('GNIS_ID', '01010615'), ('GNIS_Name', 'Cunningham Creek'), ('LengthKM', 1.362), ('ReachCode', '06010202000371'), ('FlowDir', 1), ('WBArea_Permanent_Identifier', None), ('FType', 460), ('FCode', 46006), ('MainPath', 0), ('InNetwork', 1), ('VisibilityFilter', 100000), ('Shape_Length', 0.013625581127194461), ('NHDPlusID', 25000400242778.0), ('VPUID', '0601'), ('Enabled', 1)])\n"
     ]
    }
   ],
   "source": [
    "for r in river:\n",
    "    print(r.properties)"
   ]
  },
  {
   "cell_type": "code",
   "execution_count": 9,
   "metadata": {},
   "outputs": [
    {
     "data": {
      "text/plain": [
       "['ExternalCrosswalk',\n",
       " 'FeatureToMetadata',\n",
       " 'HUMod',\n",
       " 'NHDFCode',\n",
       " 'NHDFeatureToMetadata',\n",
       " 'NHDMetadata',\n",
       " 'NHDPlusDivFracMP',\n",
       " 'NHDPlusEROMMA',\n",
       " 'NHDPlusEROMQAMA',\n",
       " 'NHDPlusEROMQARPT',\n",
       " 'NHDPlusFlow',\n",
       " 'NHDPlusFlowlineVAA',\n",
       " 'NHDPlusIncrLat',\n",
       " 'NHDPlusIncrPrecipMA',\n",
       " 'NHDPlusIncrPrecipMM01',\n",
       " 'NHDPlusIncrPrecipMM02',\n",
       " 'NHDPlusIncrPrecipMM03',\n",
       " 'NHDPlusIncrPrecipMM04',\n",
       " 'NHDPlusIncrPrecipMM05',\n",
       " 'NHDPlusIncrPrecipMM06',\n",
       " 'NHDPlusIncrPrecipMM07',\n",
       " 'NHDPlusIncrPrecipMM08',\n",
       " 'NHDPlusIncrPrecipMM09',\n",
       " 'NHDPlusIncrPrecipMM10',\n",
       " 'NHDPlusIncrPrecipMM11',\n",
       " 'NHDPlusIncrPrecipMM12',\n",
       " 'NHDPlusIncrROMA',\n",
       " 'NHDPlusIncrTempMA',\n",
       " 'NHDPlusIncrTempMM01',\n",
       " 'NHDPlusIncrTempMM02',\n",
       " 'NHDPlusIncrTempMM03',\n",
       " 'NHDPlusIncrTempMM04',\n",
       " 'NHDPlusIncrTempMM05',\n",
       " 'NHDPlusIncrTempMM06',\n",
       " 'NHDPlusIncrTempMM07',\n",
       " 'NHDPlusIncrTempMM08',\n",
       " 'NHDPlusIncrTempMM09',\n",
       " 'NHDPlusIncrTempMM10',\n",
       " 'NHDPlusIncrTempMM11',\n",
       " 'NHDPlusIncrTempMM12',\n",
       " 'NHDPlusMegaDiv',\n",
       " 'NHDPlusNHDPlusIDGridCode',\n",
       " 'NHDProcessingParameters',\n",
       " 'NHDReachCodeMaintenance',\n",
       " 'NHDReachCrossReference',\n",
       " 'NHDSourceCitation',\n",
       " 'NHDVerticalRelationship',\n",
       " 'ProcessingParameters',\n",
       " 'NHDPlusBurnLineEvent',\n",
       " 'NHDPlusBurnWaterbody',\n",
       " 'NHDPlusCatchment',\n",
       " 'NHDPlusLandSea',\n",
       " 'NHDPlusSink',\n",
       " 'NHDPlusWall',\n",
       " 'NHDArea',\n",
       " 'NHDFlowline',\n",
       " 'NHDLine',\n",
       " 'NHDPoint',\n",
       " 'NHDWaterbody',\n",
       " 'MetaProcessDetail',\n",
       " 'MetaSourceDetail',\n",
       " 'NonContributingDrainageArea',\n",
       " 'NonContributingDrainageLine',\n",
       " 'NWISDrainageArea',\n",
       " 'NWISDrainageLine',\n",
       " 'WBDHU10',\n",
       " 'WBDHU12',\n",
       " 'WBDHU14',\n",
       " 'WBDHU16',\n",
       " 'WBDHU2',\n",
       " 'WBDHU4',\n",
       " 'WBDHU6',\n",
       " 'WBDHU8',\n",
       " 'WBDLine',\n",
       " 'HYDRO_NET_Junctions']"
      ]
     },
     "execution_count": 9,
     "metadata": {},
     "output_type": "execute_result"
    }
   ],
   "source": [
    "import fiona\n",
    "fiona.listlayers('../data/hydrography/NHDPlus_H_0601_GDB/NHDPlus_H_0601.gdb')"
   ]
  },
  {
   "cell_type": "code",
   "execution_count": 10,
   "metadata": {},
   "outputs": [],
   "source": [
    "fid = fiona.open('../data/hydrography/NHDPlus_H_0601_GDB/NHDPlus_H_0601.gdb', 'r', layer='NHDPlusFlowlineVAA')"
   ]
  },
  {
   "cell_type": "code",
   "execution_count": 13,
   "metadata": {},
   "outputs": [
    {
     "data": {
      "text/plain": [
       "{'type': 'Feature',\n",
       " 'id': '10',\n",
       " 'properties': OrderedDict([('NHDPlusID', 25000400123673.0),\n",
       "              ('StreamLeve', 3),\n",
       "              ('StreamOrde', 1),\n",
       "              ('StreamCalc', 1),\n",
       "              ('FromNode', 25000400204878.0),\n",
       "              ('ToNode', 25000400125642.0),\n",
       "              ('HydroSeq', 25000400215041.0),\n",
       "              ('LevelPathI', 25000400215041.0),\n",
       "              ('PathLength', 1300.41688666),\n",
       "              ('TerminalPa', 25000100000172.0),\n",
       "              ('ArbolateSu', 0.41714276),\n",
       "              ('Divergence', 0),\n",
       "              ('StartFlag', 1),\n",
       "              ('TerminalFl', 0),\n",
       "              ('UpLevelPat', 0.0),\n",
       "              ('UpHydroSeq', 0.0),\n",
       "              ('DnLevel', 2),\n",
       "              ('DnLevelPat', 25000400050822.0),\n",
       "              ('DnHydroSeq', 25000400064378.0),\n",
       "              ('DnMinorHyd', 0.0),\n",
       "              ('DnDrainCou', 1),\n",
       "              ('FromMeas', 0.0),\n",
       "              ('ToMeas', 100.0),\n",
       "              ('ReachCode', '06010105105370'),\n",
       "              ('RtnDiv', 0),\n",
       "              ('Thinner', 4),\n",
       "              ('VPUIn', 0),\n",
       "              ('VPUOut', 0),\n",
       "              ('AreaSqKm', 0.11370002),\n",
       "              ('TotDASqKm', 0.11370002),\n",
       "              ('DivDASqKm', 0.11370002),\n",
       "              ('MaxElevRaw', 64717.0),\n",
       "              ('MinElevRaw', 62450.0),\n",
       "              ('MaxElevSmo', 64717.0),\n",
       "              ('MinElevSmo', 62450.0),\n",
       "              ('Slope', 0.07148199999999999),\n",
       "              ('SlopeLenKm', 0.31714276),\n",
       "              ('ElevFixed', 1),\n",
       "              ('HWType', 0),\n",
       "              ('HWNodeSqKm', 0.049100000000000005),\n",
       "              ('StatusFlag', 'A'),\n",
       "              ('VPUID', '0601')]),\n",
       " 'geometry': None}"
      ]
     },
     "execution_count": 13,
     "metadata": {},
     "output_type": "execute_result"
    }
   ],
   "source": [
    "fid[10]"
   ]
  },
  {
   "cell_type": "code",
   "execution_count": 14,
   "metadata": {},
   "outputs": [],
   "source": []
  },
  {
   "cell_type": "code",
   "execution_count": 15,
   "metadata": {},
   "outputs": [
    {
     "data": {
      "text/plain": [
       "293"
      ]
     },
     "execution_count": 15,
     "metadata": {},
     "output_type": "execute_result"
    }
   ],
   "source": [
    "len(fida)\n"
   ]
  },
  {
   "cell_type": "code",
   "execution_count": null,
   "metadata": {},
   "outputs": [],
   "source": []
  }
 ],
 "metadata": {
  "kernelspec": {
   "display_name": "Python [conda env:ats_meshing_20190719]",
   "language": "python",
   "name": "conda-env-ats_meshing_20190719-py"
  },
  "language_info": {
   "codemirror_mode": {
    "name": "ipython",
    "version": 3
   },
   "file_extension": ".py",
   "mimetype": "text/x-python",
   "name": "python",
   "nbconvert_exporter": "python",
   "pygments_lexer": "ipython3",
   "version": "3.7.3"
  }
 },
 "nbformat": 4,
 "nbformat_minor": 2
}
