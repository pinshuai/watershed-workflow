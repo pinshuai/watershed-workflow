{
 "cells": [
  {
   "cell_type": "code",
   "execution_count": 94,
   "metadata": {},
   "outputs": [],
   "source": [
    "import numpy as np, pandas as pd\n",
    "import fiona\n",
    "import geopandas as gpd\n",
    "\n",
    "import workflow.ui\n",
    "workflow.ui.setup_logging(1,None) # default is printing logging.INFO\n",
    "\n",
    "from ANN_Module import PTF_MODEL\n",
    "from DB_Module import DB\n",
    "import time as T\n",
    "\n",
    "import logging\n",
    "import matplotlib.pyplot as plt"
   ]
  },
  {
   "cell_type": "code",
   "execution_count": 91,
   "metadata": {},
   "outputs": [],
   "source": [
    "fname_soil_data = '../workflow_tpls/rosetta_v3.0beta/output/test_input_H3w.txt'\n",
    "fname_sqlite = '../workflow_tpls/rosetta_v3.0beta/sqlite/Rosetta.sqlite'\n",
    "fname_vgm_output = '../workflow_tpls/rosetta_v3.0beta/output/vgm_out.txt'\n",
    "\n",
    "fname_soil_gdb = \"/Users/shua784/Dropbox/PNNL/Projects/Columbia_Basin/Reach_domain_QGIS/US_soil/gNATSGO_WA.gdb\"\n",
    "fname_mukey_agg = \"./results/mukey_soil_property.csv\"\n",
    "fname_soil_parameters = \"./results/mukey_soil_parameters.csv\""
   ]
  },
  {
   "cell_type": "markdown",
   "metadata": {},
   "source": [
    "# read in soil data"
   ]
  },
  {
   "cell_type": "markdown",
   "metadata": {},
   "source": [
    "List all tables within geodatabase"
   ]
  },
  {
   "cell_type": "code",
   "execution_count": 7,
   "metadata": {
    "scrolled": true
   },
   "outputs": [
    {
     "data": {
      "text/plain": [
       "['chaashto',\n",
       " 'chconsistence',\n",
       " 'chdesgnsuffix',\n",
       " 'chfrags',\n",
       " 'chorizon',\n",
       " 'chpores',\n",
       " 'chstruct',\n",
       " 'chstructgrp',\n",
       " 'chtext',\n",
       " 'chtexture',\n",
       " 'chtexturegrp',\n",
       " 'chtexturemod',\n",
       " 'chunified',\n",
       " 'cocanopycover',\n",
       " 'cocropyld',\n",
       " 'codiagfeatures',\n",
       " 'coecoclass',\n",
       " 'coeplants',\n",
       " 'coerosionacc',\n",
       " 'coforprod',\n",
       " 'coforprodo',\n",
       " 'cogeomordesc',\n",
       " 'cohydriccriteria',\n",
       " 'cointerp',\n",
       " 'comonth',\n",
       " 'component',\n",
       " 'copm',\n",
       " 'copmgrp',\n",
       " 'copwindbreak',\n",
       " 'corestrictions',\n",
       " 'cosoilmoist',\n",
       " 'cosoiltemp',\n",
       " 'cosurffrags',\n",
       " 'cosurfmorphgc',\n",
       " 'cosurfmorphhpp',\n",
       " 'cosurfmorphmr',\n",
       " 'cosurfmorphss',\n",
       " 'cotaxfmmin',\n",
       " 'cotaxmoistcl',\n",
       " 'cotext',\n",
       " 'cotreestomng',\n",
       " 'cotxfmother',\n",
       " 'distinterpmd',\n",
       " 'distlegendmd',\n",
       " 'distmd',\n",
       " 'featdesc',\n",
       " 'laoverlap',\n",
       " 'legend',\n",
       " 'legendtext',\n",
       " 'mapunit',\n",
       " 'month',\n",
       " 'muaggatt',\n",
       " 'muaoverlap',\n",
       " 'mucropyld',\n",
       " 'mutext',\n",
       " 'sacatalog',\n",
       " 'sainterp',\n",
       " 'sdvalgorithm',\n",
       " 'sdvattribute',\n",
       " 'sdvfolder',\n",
       " 'sdvfolderattribute',\n",
       " 'mdstatdomdet',\n",
       " 'mdstatdommas',\n",
       " 'mdstatidxdet',\n",
       " 'mdstatidxmas',\n",
       " 'mdstatrshipdet',\n",
       " 'mdstatrshipmas',\n",
       " 'mdstattabcols',\n",
       " 'mdstattabs',\n",
       " 'SAPOLYGON']"
      ]
     },
     "execution_count": 7,
     "metadata": {},
     "output_type": "execute_result"
    }
   ],
   "source": [
    "fiona.listlayers(fname_soil_gdb)"
   ]
  },
  {
   "cell_type": "code",
   "execution_count": 36,
   "metadata": {},
   "outputs": [],
   "source": [
    "df_chorizon = gpd.read_file(fname_soil_gdb, driver='FileGDB', layer='chorizon')"
   ]
  },
  {
   "cell_type": "code",
   "execution_count": 15,
   "metadata": {
    "scrolled": true
   },
   "outputs": [
    {
     "data": {
      "text/plain": [
       "['hzname',\n",
       " 'desgndisc',\n",
       " 'desgnmaster',\n",
       " 'desgnmasterprime',\n",
       " 'desgnvert',\n",
       " 'hzdept_l',\n",
       " 'hzdept_r',\n",
       " 'hzdept_h',\n",
       " 'hzdepb_l',\n",
       " 'hzdepb_r',\n",
       " 'hzdepb_h',\n",
       " 'hzthk_l',\n",
       " 'hzthk_r',\n",
       " 'hzthk_h',\n",
       " 'fraggt10_l',\n",
       " 'fraggt10_r',\n",
       " 'fraggt10_h',\n",
       " 'frag3to10_l',\n",
       " 'frag3to10_r',\n",
       " 'frag3to10_h',\n",
       " 'sieveno4_l',\n",
       " 'sieveno4_r',\n",
       " 'sieveno4_h',\n",
       " 'sieveno10_l',\n",
       " 'sieveno10_r',\n",
       " 'sieveno10_h',\n",
       " 'sieveno40_l',\n",
       " 'sieveno40_r',\n",
       " 'sieveno40_h',\n",
       " 'sieveno200_l',\n",
       " 'sieveno200_r',\n",
       " 'sieveno200_h',\n",
       " 'sandtotal_l',\n",
       " 'sandtotal_r',\n",
       " 'sandtotal_h',\n",
       " 'sandvc_l',\n",
       " 'sandvc_r',\n",
       " 'sandvc_h',\n",
       " 'sandco_l',\n",
       " 'sandco_r',\n",
       " 'sandco_h',\n",
       " 'sandmed_l',\n",
       " 'sandmed_r',\n",
       " 'sandmed_h',\n",
       " 'sandfine_l',\n",
       " 'sandfine_r',\n",
       " 'sandfine_h',\n",
       " 'sandvf_l',\n",
       " 'sandvf_r',\n",
       " 'sandvf_h',\n",
       " 'silttotal_l',\n",
       " 'silttotal_r',\n",
       " 'silttotal_h',\n",
       " 'siltco_l',\n",
       " 'siltco_r',\n",
       " 'siltco_h',\n",
       " 'siltfine_l',\n",
       " 'siltfine_r',\n",
       " 'siltfine_h',\n",
       " 'claytotal_l',\n",
       " 'claytotal_r',\n",
       " 'claytotal_h',\n",
       " 'claysizedcarb_l',\n",
       " 'claysizedcarb_r',\n",
       " 'claysizedcarb_h',\n",
       " 'om_l',\n",
       " 'om_r',\n",
       " 'om_h',\n",
       " 'dbtenthbar_l',\n",
       " 'dbtenthbar_r',\n",
       " 'dbtenthbar_h',\n",
       " 'dbthirdbar_l',\n",
       " 'dbthirdbar_r',\n",
       " 'dbthirdbar_h',\n",
       " 'dbfifteenbar_l',\n",
       " 'dbfifteenbar_r',\n",
       " 'dbfifteenbar_h',\n",
       " 'dbovendry_l',\n",
       " 'dbovendry_r',\n",
       " 'dbovendry_h',\n",
       " 'partdensity',\n",
       " 'ksat_l',\n",
       " 'ksat_r',\n",
       " 'ksat_h',\n",
       " 'awc_l',\n",
       " 'awc_r',\n",
       " 'awc_h',\n",
       " 'wtenthbar_l',\n",
       " 'wtenthbar_r',\n",
       " 'wtenthbar_h',\n",
       " 'wthirdbar_l',\n",
       " 'wthirdbar_r',\n",
       " 'wthirdbar_h',\n",
       " 'wfifteenbar_l',\n",
       " 'wfifteenbar_r',\n",
       " 'wfifteenbar_h',\n",
       " 'wsatiated_l',\n",
       " 'wsatiated_r',\n",
       " 'wsatiated_h',\n",
       " 'lep_l',\n",
       " 'lep_r',\n",
       " 'lep_h',\n",
       " 'll_l',\n",
       " 'll_r',\n",
       " 'll_h',\n",
       " 'pi_l',\n",
       " 'pi_r',\n",
       " 'pi_h',\n",
       " 'aashind_l',\n",
       " 'aashind_r',\n",
       " 'aashind_h',\n",
       " 'kwfact',\n",
       " 'kffact',\n",
       " 'caco3_l',\n",
       " 'caco3_r',\n",
       " 'caco3_h',\n",
       " 'gypsum_l',\n",
       " 'gypsum_r',\n",
       " 'gypsum_h',\n",
       " 'sar_l',\n",
       " 'sar_r',\n",
       " 'sar_h',\n",
       " 'ec_l',\n",
       " 'ec_r',\n",
       " 'ec_h',\n",
       " 'cec7_l',\n",
       " 'cec7_r',\n",
       " 'cec7_h',\n",
       " 'ecec_l',\n",
       " 'ecec_r',\n",
       " 'ecec_h',\n",
       " 'sumbases_l',\n",
       " 'sumbases_r',\n",
       " 'sumbases_h',\n",
       " 'ph1to1h2o_l',\n",
       " 'ph1to1h2o_r',\n",
       " 'ph1to1h2o_h',\n",
       " 'ph01mcacl2_l',\n",
       " 'ph01mcacl2_r',\n",
       " 'ph01mcacl2_h',\n",
       " 'freeiron_l',\n",
       " 'freeiron_r',\n",
       " 'freeiron_h',\n",
       " 'feoxalate_l',\n",
       " 'feoxalate_r',\n",
       " 'feoxalate_h',\n",
       " 'extracid_l',\n",
       " 'extracid_r',\n",
       " 'extracid_h',\n",
       " 'extral_l',\n",
       " 'extral_r',\n",
       " 'extral_h',\n",
       " 'aloxalate_l',\n",
       " 'aloxalate_r',\n",
       " 'aloxalate_h',\n",
       " 'pbray1_l',\n",
       " 'pbray1_r',\n",
       " 'pbray1_h',\n",
       " 'poxalate_l',\n",
       " 'poxalate_r',\n",
       " 'poxalate_h',\n",
       " 'ph2osoluble_l',\n",
       " 'ph2osoluble_r',\n",
       " 'ph2osoluble_h',\n",
       " 'ptotal_l',\n",
       " 'ptotal_r',\n",
       " 'ptotal_h',\n",
       " 'excavdifcl',\n",
       " 'excavdifms',\n",
       " 'cokey',\n",
       " 'chkey',\n",
       " 'geometry']"
      ]
     },
     "execution_count": 15,
     "metadata": {},
     "output_type": "execute_result"
    }
   ],
   "source": [
    "list(df_chorizon.columns)"
   ]
  },
  {
   "cell_type": "code",
   "execution_count": 13,
   "metadata": {},
   "outputs": [],
   "source": [
    "df_component = gpd.read_file(fname_soil_gdb, driver='FileGDB', layer='component')"
   ]
  },
  {
   "cell_type": "code",
   "execution_count": 16,
   "metadata": {
    "scrolled": true
   },
   "outputs": [
    {
     "data": {
      "text/plain": [
       "['comppct_l',\n",
       " 'comppct_r',\n",
       " 'comppct_h',\n",
       " 'compname',\n",
       " 'compkind',\n",
       " 'majcompflag',\n",
       " 'otherph',\n",
       " 'localphase',\n",
       " 'slope_l',\n",
       " 'slope_r',\n",
       " 'slope_h',\n",
       " 'slopelenusle_l',\n",
       " 'slopelenusle_r',\n",
       " 'slopelenusle_h',\n",
       " 'runoff',\n",
       " 'tfact',\n",
       " 'wei',\n",
       " 'weg',\n",
       " 'erocl',\n",
       " 'earthcovkind1',\n",
       " 'earthcovkind2',\n",
       " 'hydricon',\n",
       " 'hydricrating',\n",
       " 'drainagecl',\n",
       " 'elev_l',\n",
       " 'elev_r',\n",
       " 'elev_h',\n",
       " 'aspectccwise',\n",
       " 'aspectrep',\n",
       " 'aspectcwise',\n",
       " 'geomdesc',\n",
       " 'albedodry_l',\n",
       " 'albedodry_r',\n",
       " 'albedodry_h',\n",
       " 'airtempa_l',\n",
       " 'airtempa_r',\n",
       " 'airtempa_h',\n",
       " 'map_l',\n",
       " 'map_r',\n",
       " 'map_h',\n",
       " 'reannualprecip_l',\n",
       " 'reannualprecip_r',\n",
       " 'reannualprecip_h',\n",
       " 'ffd_l',\n",
       " 'ffd_r',\n",
       " 'ffd_h',\n",
       " 'nirrcapcl',\n",
       " 'nirrcapscl',\n",
       " 'nirrcapunit',\n",
       " 'irrcapcl',\n",
       " 'irrcapscl',\n",
       " 'irrcapunit',\n",
       " 'cropprodindex',\n",
       " 'constreeshrubgrp',\n",
       " 'wndbrksuitgrp',\n",
       " 'rsprod_l',\n",
       " 'rsprod_r',\n",
       " 'rsprod_h',\n",
       " 'foragesuitgrpid',\n",
       " 'wlgrain',\n",
       " 'wlgrass',\n",
       " 'wlherbaceous',\n",
       " 'wlshrub',\n",
       " 'wlconiferous',\n",
       " 'wlhardwood',\n",
       " 'wlwetplant',\n",
       " 'wlshallowwat',\n",
       " 'wlrangeland',\n",
       " 'wlopenland',\n",
       " 'wlwoodland',\n",
       " 'wlwetland',\n",
       " 'soilslippot',\n",
       " 'frostact',\n",
       " 'initsub_l',\n",
       " 'initsub_r',\n",
       " 'initsub_h',\n",
       " 'totalsub_l',\n",
       " 'totalsub_r',\n",
       " 'totalsub_h',\n",
       " 'hydgrp',\n",
       " 'corcon',\n",
       " 'corsteel',\n",
       " 'taxclname',\n",
       " 'taxorder',\n",
       " 'taxsuborder',\n",
       " 'taxgrtgroup',\n",
       " 'taxsubgrp',\n",
       " 'taxpartsize',\n",
       " 'taxpartsizemod',\n",
       " 'taxceactcl',\n",
       " 'taxreaction',\n",
       " 'taxtempcl',\n",
       " 'taxmoistscl',\n",
       " 'taxtempregime',\n",
       " 'soiltaxedition',\n",
       " 'castorieindex',\n",
       " 'flecolcomnum',\n",
       " 'flhe',\n",
       " 'flphe',\n",
       " 'flsoilleachpot',\n",
       " 'flsoirunoffpot',\n",
       " 'fltemik2use',\n",
       " 'fltriumph2use',\n",
       " 'indraingrp',\n",
       " 'innitrateleachi',\n",
       " 'misoimgmtgrp',\n",
       " 'vasoimgtgrp',\n",
       " 'mukey',\n",
       " 'cokey',\n",
       " 'geometry']"
      ]
     },
     "execution_count": 16,
     "metadata": {},
     "output_type": "execute_result"
    }
   ],
   "source": [
    "list(df_component.columns)"
   ]
  },
  {
   "cell_type": "markdown",
   "metadata": {},
   "source": [
    "# aggregate soil property"
   ]
  },
  {
   "cell_type": "markdown",
   "metadata": {},
   "source": [
    "Processing steps taken from [USGS area- and depth- weighted SSURGO variables](https://water.usgs.gov/GIS/metadata/usgswrd/XML/ds866_ssurgo_variables.xml#Metadata_Reference_Information)\n",
    "\n",
    ">In order to process soil attributes by soil mapping unit (MUKEY) from the SSURGO database, at least three tables **(mapunit, component, and CHORIZON)** are needed along with the spatial coverages.  These files can be accessed from [NRCS](http://www.nrcs.usda.gov/wps/portal/nrcs/detail/soils/survey/geo/?cid=nrcs142p2_053628).  All available data were downloaded, processed as outlined below. \n",
    "    SSURGO map unit data are stored in the map unit table (MAPUNIT.TXT), and are referenced by the field MUKEY.  Map units consist of multiple, unmapped soil types called \"components.\"   Component data are stored in the component table (COMP.TXT), and are referenced by the field COKEY.  Soil components (or soil type) are associated with multiple horizons.  Horizon data are stored in the CHORIZON table (CHORIZON.TXT), and are referenced by the field COKEY.  Since there is a one to many (**mapunit:component:horizon**) relationship between spatial and horizon-level soil property data, two aggregation steps are required in order to produce a thematic map.\n",
    "    Deriving MUKEY average values for permeability, available water capacity, bulk density, saturated hydraulic conductivity, soil erodibility, field capacity, porosity, average soil thickness, and organic matter required that a weighted-average value be computed for all the soil horizons in a soil component, and then a weighted-average value was computed for all the soil components in a soil mapping unit. **First, the component average values were computed by weighting the layer values by their thickness. Second, the MUKEY average was computed by weighting the component average values by their percentage composition of the MUKEY.**\n",
    "    Each step of the two-step weighting process was done exactly as described above: first, the layer values were weighted by their thicknesses and then the component values were weighted by their percentage composition.  The methods used to derive soil variables were taken from the NRCS's SSURGO Data Packaging and Use ([NRCS, 2011 SSURGO meta data and documentation](http://www.nrcs.usda.gov/wps/portal/nrcs/detail/soils/ref/?cid=nrcs142p2_053631).  ESRI's ArcInfo Workstation version 9.2 and GNU's awk program version 1.2.0 were used to process all SSURGO files.\n",
    "    A weighted average of the soil property value for all components in the map unit is used to attribute the map unit for that soil property. Percent composition is used as the weighting factor. This aggregation method is only suitable for numerical attributes.  If the soil property being aggregated is an attribute of a soil horizon, then a single value for all included horizons must be determined for each component before computing a weighted average for all components. In this case, the single  component value is also computed as a weighted average, where the weighting factor for each horizon is its percentage of the depth range in question.  In the following example, a weighted-average value for total clay is calculated."
   ]
  },
  {
   "cell_type": "code",
   "execution_count": 112,
   "metadata": {},
   "outputs": [],
   "source": [
    "df_component.rename(columns={'comppct_r':'component pct [%]'}, inplace = True)"
   ]
  },
  {
   "cell_type": "markdown",
   "metadata": {},
   "source": [
    "## preprocess tables"
   ]
  },
  {
   "cell_type": "code",
   "execution_count": 21,
   "metadata": {},
   "outputs": [],
   "source": [
    "horizon_rename_list = {'hzdept_r':'top depth [cm]', 'hzdepb_r':'bot depth [cm]', 'ksat_r':'sat K [um/s]', \n",
    "                  'sandtotal_r':'total sand pct [%]', 'silttotal_r':'total silt pct [%]', 'claytotal_r':'total clay pct [%]',\n",
    "                 'dbthirdbar_r':'bulk density [g/cm^3]', 'partdensity':'particle density [g/cm^3]'}\n",
    "\n",
    "df_chorizon.rename(columns = horizon_rename_list, inplace = True)"
   ]
  },
  {
   "cell_type": "markdown",
   "metadata": {},
   "source": [
    "### calculate layer thickness"
   ]
  },
  {
   "cell_type": "code",
   "execution_count": 47,
   "metadata": {},
   "outputs": [],
   "source": [
    "df_chorizon['thickness [cm]'] = df_chorizon['bot depth [cm]'] - df_chorizon['top depth [cm]']"
   ]
  },
  {
   "cell_type": "markdown",
   "metadata": {},
   "source": [
    "### calculate porosity"
   ]
  },
  {
   "cell_type": "markdown",
   "metadata": {},
   "source": [
    "Fill in missing particle density with 2.65 g/cm3. This may not be realistic in some area."
   ]
  },
  {
   "cell_type": "code",
   "execution_count": 40,
   "metadata": {},
   "outputs": [],
   "source": [
    "df_chorizon.loc[pd.isnull(df_chorizon['particle density [g/cm^3]']), 'particle density [g/cm^3]'] = 2.65\n",
    "\n",
    "df_chorizon['porosity [-]'] = 1 - df_chorizon['bulk density [g/cm^3]']/df_chorizon['particle density [g/cm^3]']"
   ]
  },
  {
   "cell_type": "markdown",
   "metadata": {},
   "source": [
    "## get averaged map unit value"
   ]
  },
  {
   "cell_type": "code",
   "execution_count": 263,
   "metadata": {},
   "outputs": [],
   "source": [
    "horizon_selected_cols = ['cokey', 'chkey', 'thickness [cm]', 'top depth [cm]', 'bot depth [cm]', 'sat K [um/s]', 'total sand pct [%]', 'total silt pct [%]', 'total clay pct [%]',\n",
    "           'bulk density [g/cm^3]', 'particle density [g/cm^3]', 'porosity [-]']\n",
    "\n",
    "mukey_agg_var = ['mukey', 'agg_Ksat [um/s]', 'agg_sand_pct [%]', \n",
    "           'agg_silt_pct [%]', 'agg_clay_pct [%]', 'agg_bulk_density [g/cm^3]', 'agg_porosity [-]', 'agg_soil_depth [cm]'\n",
    "          ]\n",
    "\n",
    "# comp_list = ['sat K [um/s]', 'total sand pct [%]', 'total silt pct [%]', 'total clay pct [%]', 'bulk density [g/cm^3]', 'porosity [-]','soil depth [cm]', 'cokey']\n",
    "\n",
    "depth_ave_var = ['sat K [um/s]', 'total sand pct [%]', 'total silt pct [%]', 'total clay pct [%]', 'bulk density [g/cm^3]', 'porosity [-]']\n",
    "\n",
    "area_ave_var = depth_ave_var + ['soil depth [cm]']\n",
    "\n",
    "comp_list = area_ave_var + ['cokey']"
   ]
  },
  {
   "cell_type": "code",
   "execution_count": 163,
   "metadata": {},
   "outputs": [],
   "source": [
    "unique_cokeys_in_chorizon = df_chorizon['cokey'].unique()"
   ]
  },
  {
   "cell_type": "code",
   "execution_count": 271,
   "metadata": {},
   "outputs": [],
   "source": [
    "mukey_agg_df = pd.DataFrame(columns = mukey_agg_var)\n",
    "\n",
    "for imukey in df_component['mukey'].unique()[:]:\n",
    "\n",
    "    imukey_df = df_component.loc[df_component['mukey'] == imukey, ['mukey', 'cokey', 'component pct [%]']]\n",
    "    \n",
    "    comp_agg_df = pd.DataFrame(columns = comp_list)\n",
    "    for icokey in imukey_df['cokey'].values[:]:\n",
    "        \n",
    "        if icokey in unique_cokeys_in_chorizon:\n",
    "\n",
    "            idf_horizon = df_chorizon.loc[df_chorizon['cokey'] == icokey, horizon_selected_cols]\n",
    "\n",
    "            depth_agg_value = []\n",
    "            \n",
    "            # depth-average based on layer thickness\n",
    "            for ivar in depth_ave_var:\n",
    "                idf = idf_horizon[['thickness [cm]', ivar]].dropna()\n",
    "                if idf.empty:\n",
    "                    ivalue = np.nan\n",
    "                else:\n",
    "                    ivalue = sum(idf['thickness [cm]']/idf['thickness [cm]'].sum()*idf[ivar])\n",
    "                depth_agg_value.append(ivalue)\n",
    "\n",
    "            idepth = idf_horizon['bot depth [cm]'].dropna().max()\n",
    "\n",
    "            depth_agg_value.append(idepth)\n",
    "            depth_agg_value.append(icokey)\n",
    "\n",
    "            idf_comp = pd.DataFrame(np.array(depth_agg_value).reshape(1, len(depth_agg_value)), columns=comp_list)\n",
    "            \n",
    "            \n",
    "            idf_comp[area_ave_var] = idf_comp[area_ave_var].apply(pd.to_numeric, errors = 'coerce')\n",
    "            \n",
    "            # normalize sand/silt/clay pct to make the sum(%sand, %silt, %clay)=1\n",
    "            sum_soil = idf_comp.loc[:, 'total sand pct [%]':'total clay pct [%]'].sum().sum()\n",
    "            if sum_soil !=100:\n",
    "                for isoil in ['total sand pct [%]', 'total silt pct [%]', 'total clay pct [%]']:\n",
    "                    idf_comp[isoil] = idf_comp[isoil]/sum_soil*100\n",
    "            \n",
    "            comp_agg_df = comp_agg_df.append(idf_comp)\n",
    "            \n",
    "    imukey_cokey_df = pd.merge(imukey_df, comp_agg_df, how = 'outer', left_on = 'cokey', right_on = 'cokey')\n",
    "\n",
    "    # area-average based on component pct\n",
    "    area_agg_value = []\n",
    "    area_agg_value.append(imukey)\n",
    "    for ivar in area_ave_var[:]:\n",
    "        idf = imukey_cokey_df[['component pct [%]', ivar]].dropna()\n",
    "        if idf.empty:\n",
    "            ivalue = np.nan\n",
    "        else:\n",
    "            ivalue = sum(idf['component pct [%]']/idf['component pct [%]'].sum()*idf[ivar])\n",
    "        area_agg_value.append(ivalue)\n",
    "\n",
    "    idf_mukey_agg = pd.DataFrame(np.array(area_agg_value).reshape(1, len(area_agg_value)), columns=mukey_agg_var)\n",
    "            \n",
    "    mukey_agg_df = mukey_agg_df.append(idf_mukey_agg)\n",
    "\n",
    "mukey_agg_df[mukey_agg_var[1:]] = mukey_agg_df[mukey_agg_var[1:]].apply(pd.to_numeric, errors = 'coerce')"
   ]
  },
  {
   "cell_type": "code",
   "execution_count": 272,
   "metadata": {},
   "outputs": [
    {
     "data": {
      "text/html": [
       "<div>\n",
       "<style scoped>\n",
       "    .dataframe tbody tr th:only-of-type {\n",
       "        vertical-align: middle;\n",
       "    }\n",
       "\n",
       "    .dataframe tbody tr th {\n",
       "        vertical-align: top;\n",
       "    }\n",
       "\n",
       "    .dataframe thead th {\n",
       "        text-align: right;\n",
       "    }\n",
       "</style>\n",
       "<table border=\"1\" class=\"dataframe\">\n",
       "  <thead>\n",
       "    <tr style=\"text-align: right;\">\n",
       "      <th></th>\n",
       "      <th>mukey</th>\n",
       "      <th>agg_Ksat [um/s]</th>\n",
       "      <th>agg_sand_pct [%]</th>\n",
       "      <th>agg_silt_pct [%]</th>\n",
       "      <th>agg_clay_pct [%]</th>\n",
       "      <th>agg_bulk_density [g/cm^3]</th>\n",
       "      <th>agg_porosity [-]</th>\n",
       "      <th>agg_soil_depth [cm]</th>\n",
       "    </tr>\n",
       "  </thead>\n",
       "  <tbody>\n",
       "    <tr>\n",
       "      <th>0</th>\n",
       "      <td>74975</td>\n",
       "      <td>23.000000</td>\n",
       "      <td>46.000000</td>\n",
       "      <td>44.000000</td>\n",
       "      <td>10.000000</td>\n",
       "      <td>1.055526</td>\n",
       "      <td>0.601688</td>\n",
       "      <td>152.00</td>\n",
       "    </tr>\n",
       "    <tr>\n",
       "      <th>0</th>\n",
       "      <td>74976</td>\n",
       "      <td>25.125000</td>\n",
       "      <td>53.318421</td>\n",
       "      <td>36.681579</td>\n",
       "      <td>10.000000</td>\n",
       "      <td>1.400658</td>\n",
       "      <td>0.471450</td>\n",
       "      <td>152.00</td>\n",
       "    </tr>\n",
       "    <tr>\n",
       "      <th>0</th>\n",
       "      <td>74977</td>\n",
       "      <td>217.684211</td>\n",
       "      <td>87.677632</td>\n",
       "      <td>8.309211</td>\n",
       "      <td>4.013158</td>\n",
       "      <td>1.478947</td>\n",
       "      <td>0.441907</td>\n",
       "      <td>152.00</td>\n",
       "    </tr>\n",
       "    <tr>\n",
       "      <th>0</th>\n",
       "      <td>74978</td>\n",
       "      <td>217.684211</td>\n",
       "      <td>87.677632</td>\n",
       "      <td>8.309211</td>\n",
       "      <td>4.013158</td>\n",
       "      <td>1.478947</td>\n",
       "      <td>0.441907</td>\n",
       "      <td>152.00</td>\n",
       "    </tr>\n",
       "    <tr>\n",
       "      <th>0</th>\n",
       "      <td>74979</td>\n",
       "      <td>86.526316</td>\n",
       "      <td>89.926316</td>\n",
       "      <td>7.445395</td>\n",
       "      <td>2.628289</td>\n",
       "      <td>1.308618</td>\n",
       "      <td>0.506182</td>\n",
       "      <td>152.00</td>\n",
       "    </tr>\n",
       "    <tr>\n",
       "      <th>...</th>\n",
       "      <td>...</td>\n",
       "      <td>...</td>\n",
       "      <td>...</td>\n",
       "      <td>...</td>\n",
       "      <td>...</td>\n",
       "      <td>...</td>\n",
       "      <td>...</td>\n",
       "      <td>...</td>\n",
       "    </tr>\n",
       "    <tr>\n",
       "      <th>0</th>\n",
       "      <td>676031</td>\n",
       "      <td>30.748019</td>\n",
       "      <td>55.359001</td>\n",
       "      <td>31.780353</td>\n",
       "      <td>12.860646</td>\n",
       "      <td>1.244287</td>\n",
       "      <td>0.530458</td>\n",
       "      <td>132.65</td>\n",
       "    </tr>\n",
       "    <tr>\n",
       "      <th>0</th>\n",
       "      <td>676034</td>\n",
       "      <td>8.225402</td>\n",
       "      <td>39.217148</td>\n",
       "      <td>38.957056</td>\n",
       "      <td>21.825796</td>\n",
       "      <td>1.345766</td>\n",
       "      <td>0.492164</td>\n",
       "      <td>68.18</td>\n",
       "    </tr>\n",
       "    <tr>\n",
       "      <th>0</th>\n",
       "      <td>676052</td>\n",
       "      <td>105.572383</td>\n",
       "      <td>54.803447</td>\n",
       "      <td>32.868151</td>\n",
       "      <td>12.328401</td>\n",
       "      <td>1.391594</td>\n",
       "      <td>0.474870</td>\n",
       "      <td>140.96</td>\n",
       "    </tr>\n",
       "    <tr>\n",
       "      <th>0</th>\n",
       "      <td>676071</td>\n",
       "      <td>21.381011</td>\n",
       "      <td>76.217172</td>\n",
       "      <td>16.282828</td>\n",
       "      <td>7.500000</td>\n",
       "      <td>1.071582</td>\n",
       "      <td>0.595629</td>\n",
       "      <td>138.74</td>\n",
       "    </tr>\n",
       "    <tr>\n",
       "      <th>0</th>\n",
       "      <td>657964</td>\n",
       "      <td>NaN</td>\n",
       "      <td>NaN</td>\n",
       "      <td>NaN</td>\n",
       "      <td>NaN</td>\n",
       "      <td>NaN</td>\n",
       "      <td>NaN</td>\n",
       "      <td>NaN</td>\n",
       "    </tr>\n",
       "  </tbody>\n",
       "</table>\n",
       "<p>11052 rows × 8 columns</p>\n",
       "</div>"
      ],
      "text/plain": [
       "     mukey  agg_Ksat [um/s]  agg_sand_pct [%]  agg_silt_pct [%]  \\\n",
       "0    74975        23.000000         46.000000         44.000000   \n",
       "0    74976        25.125000         53.318421         36.681579   \n",
       "0    74977       217.684211         87.677632          8.309211   \n",
       "0    74978       217.684211         87.677632          8.309211   \n",
       "0    74979        86.526316         89.926316          7.445395   \n",
       "..     ...              ...               ...               ...   \n",
       "0   676031        30.748019         55.359001         31.780353   \n",
       "0   676034         8.225402         39.217148         38.957056   \n",
       "0   676052       105.572383         54.803447         32.868151   \n",
       "0   676071        21.381011         76.217172         16.282828   \n",
       "0   657964              NaN               NaN               NaN   \n",
       "\n",
       "    agg_clay_pct [%]  agg_bulk_density [g/cm^3]  agg_porosity [-]  \\\n",
       "0          10.000000                   1.055526          0.601688   \n",
       "0          10.000000                   1.400658          0.471450   \n",
       "0           4.013158                   1.478947          0.441907   \n",
       "0           4.013158                   1.478947          0.441907   \n",
       "0           2.628289                   1.308618          0.506182   \n",
       "..               ...                        ...               ...   \n",
       "0          12.860646                   1.244287          0.530458   \n",
       "0          21.825796                   1.345766          0.492164   \n",
       "0          12.328401                   1.391594          0.474870   \n",
       "0           7.500000                   1.071582          0.595629   \n",
       "0                NaN                        NaN               NaN   \n",
       "\n",
       "    agg_soil_depth [cm]  \n",
       "0                152.00  \n",
       "0                152.00  \n",
       "0                152.00  \n",
       "0                152.00  \n",
       "0                152.00  \n",
       "..                  ...  \n",
       "0                132.65  \n",
       "0                 68.18  \n",
       "0                140.96  \n",
       "0                138.74  \n",
       "0                   NaN  \n",
       "\n",
       "[11052 rows x 8 columns]"
      ]
     },
     "execution_count": 272,
     "metadata": {},
     "output_type": "execute_result"
    }
   ],
   "source": [
    "mukey_agg_df"
   ]
  },
  {
   "cell_type": "code",
   "execution_count": 273,
   "metadata": {},
   "outputs": [
    {
     "data": {
      "text/html": [
       "<div>\n",
       "<style scoped>\n",
       "    .dataframe tbody tr th:only-of-type {\n",
       "        vertical-align: middle;\n",
       "    }\n",
       "\n",
       "    .dataframe tbody tr th {\n",
       "        vertical-align: top;\n",
       "    }\n",
       "\n",
       "    .dataframe thead th {\n",
       "        text-align: right;\n",
       "    }\n",
       "</style>\n",
       "<table border=\"1\" class=\"dataframe\">\n",
       "  <thead>\n",
       "    <tr style=\"text-align: right;\">\n",
       "      <th></th>\n",
       "      <th>agg_Ksat [um/s]</th>\n",
       "      <th>agg_sand_pct [%]</th>\n",
       "      <th>agg_silt_pct [%]</th>\n",
       "      <th>agg_clay_pct [%]</th>\n",
       "      <th>agg_bulk_density [g/cm^3]</th>\n",
       "      <th>agg_porosity [-]</th>\n",
       "      <th>agg_soil_depth [cm]</th>\n",
       "    </tr>\n",
       "  </thead>\n",
       "  <tbody>\n",
       "    <tr>\n",
       "      <th>count</th>\n",
       "      <td>10803.000000</td>\n",
       "      <td>10775.000000</td>\n",
       "      <td>10775.000000</td>\n",
       "      <td>10775.000000</td>\n",
       "      <td>10800.000000</td>\n",
       "      <td>10800.000000</td>\n",
       "      <td>10926.000000</td>\n",
       "    </tr>\n",
       "    <tr>\n",
       "      <th>mean</th>\n",
       "      <td>38.003839</td>\n",
       "      <td>47.652252</td>\n",
       "      <td>38.502113</td>\n",
       "      <td>13.860340</td>\n",
       "      <td>1.270232</td>\n",
       "      <td>0.520429</td>\n",
       "      <td>138.478500</td>\n",
       "    </tr>\n",
       "    <tr>\n",
       "      <th>std</th>\n",
       "      <td>58.435521</td>\n",
       "      <td>22.229731</td>\n",
       "      <td>16.664495</td>\n",
       "      <td>9.328466</td>\n",
       "      <td>0.219458</td>\n",
       "      <td>0.082898</td>\n",
       "      <td>27.732305</td>\n",
       "    </tr>\n",
       "    <tr>\n",
       "      <th>min</th>\n",
       "      <td>0.000000</td>\n",
       "      <td>4.178951</td>\n",
       "      <td>0.600000</td>\n",
       "      <td>0.310950</td>\n",
       "      <td>0.174211</td>\n",
       "      <td>0.177358</td>\n",
       "      <td>15.000000</td>\n",
       "    </tr>\n",
       "    <tr>\n",
       "      <th>25%</th>\n",
       "      <td>9.000000</td>\n",
       "      <td>29.843421</td>\n",
       "      <td>26.087805</td>\n",
       "      <td>7.075336</td>\n",
       "      <td>1.191798</td>\n",
       "      <td>0.469835</td>\n",
       "      <td>135.333333</td>\n",
       "    </tr>\n",
       "    <tr>\n",
       "      <th>50%</th>\n",
       "      <td>13.742105</td>\n",
       "      <td>46.700658</td>\n",
       "      <td>37.140235</td>\n",
       "      <td>10.401316</td>\n",
       "      <td>1.324538</td>\n",
       "      <td>0.499884</td>\n",
       "      <td>152.000000</td>\n",
       "    </tr>\n",
       "    <tr>\n",
       "      <th>75%</th>\n",
       "      <td>37.262874</td>\n",
       "      <td>66.128991</td>\n",
       "      <td>49.698473</td>\n",
       "      <td>20.203316</td>\n",
       "      <td>1.404278</td>\n",
       "      <td>0.549817</td>\n",
       "      <td>152.000000</td>\n",
       "    </tr>\n",
       "    <tr>\n",
       "      <th>max</th>\n",
       "      <td>488.000000</td>\n",
       "      <td>97.900000</td>\n",
       "      <td>76.659613</td>\n",
       "      <td>65.230262</td>\n",
       "      <td>2.180000</td>\n",
       "      <td>0.934260</td>\n",
       "      <td>367.700000</td>\n",
       "    </tr>\n",
       "  </tbody>\n",
       "</table>\n",
       "</div>"
      ],
      "text/plain": [
       "       agg_Ksat [um/s]  agg_sand_pct [%]  agg_silt_pct [%]  agg_clay_pct [%]  \\\n",
       "count     10803.000000      10775.000000      10775.000000      10775.000000   \n",
       "mean         38.003839         47.652252         38.502113         13.860340   \n",
       "std          58.435521         22.229731         16.664495          9.328466   \n",
       "min           0.000000          4.178951          0.600000          0.310950   \n",
       "25%           9.000000         29.843421         26.087805          7.075336   \n",
       "50%          13.742105         46.700658         37.140235         10.401316   \n",
       "75%          37.262874         66.128991         49.698473         20.203316   \n",
       "max         488.000000         97.900000         76.659613         65.230262   \n",
       "\n",
       "       agg_bulk_density [g/cm^3]  agg_porosity [-]  agg_soil_depth [cm]  \n",
       "count               10800.000000      10800.000000         10926.000000  \n",
       "mean                    1.270232          0.520429           138.478500  \n",
       "std                     0.219458          0.082898            27.732305  \n",
       "min                     0.174211          0.177358            15.000000  \n",
       "25%                     1.191798          0.469835           135.333333  \n",
       "50%                     1.324538          0.499884           152.000000  \n",
       "75%                     1.404278          0.549817           152.000000  \n",
       "max                     2.180000          0.934260           367.700000  "
      ]
     },
     "execution_count": 273,
     "metadata": {},
     "output_type": "execute_result"
    }
   ],
   "source": [
    "mukey_agg_df.describe()"
   ]
  },
  {
   "cell_type": "code",
   "execution_count": 275,
   "metadata": {},
   "outputs": [],
   "source": [
    "mukey_agg_df.to_csv(fname_mukey_agg, index= False)"
   ]
  },
  {
   "cell_type": "markdown",
   "metadata": {},
   "source": [
    "## look up soil property using MUKEY"
   ]
  },
  {
   "cell_type": "code",
   "execution_count": 11,
   "metadata": {},
   "outputs": [
    {
     "data": {
      "text/plain": [
       "agg_Ksat [um/s]               23.000000\n",
       "agg_sand_pct [%]              46.000000\n",
       "agg_silt_pct [%]              44.000000\n",
       "agg_clay_pct [%]              10.000000\n",
       "agg_bulk_density [g/cm^3]      1.055526\n",
       "agg_porosity [-]               0.601688\n",
       "agg_soil_depth [cm]          152.000000\n",
       "Name: 74975, dtype: float64"
      ]
     },
     "execution_count": 11,
     "metadata": {},
     "output_type": "execute_result"
    }
   ],
   "source": [
    "df = pd.read_csv(fname_mukey_agg)\n",
    "\n",
    "df.set_index('mukey', inplace = True)\n",
    "\n",
    "mukey = 74975\n",
    "\n",
    "df.loc[mukey, :]"
   ]
  },
  {
   "cell_type": "markdown",
   "metadata": {},
   "source": [
    "# get van Genutchen parameters from Rosettav3"
   ]
  },
  {
   "cell_type": "markdown",
   "metadata": {},
   "source": [
    "The following codes are modified from [Zhang and Schaap, 2017 WRR](https://doi.org/10.1016/j.jhydrol.2017.01.004) to fit in current workflow. The source code and documentation are located [here](http://www.u.arizona.edu/~ygzhang/rosettav3/). For old vs new Rosetta model comparision, also refer to this [presentation](https://soil-modeling.org/news/news-images/zhang-2017-ismc-agu.pdf).\n",
    "\n",
    "MODELS (note model 1 and 101 are still missing: textural tables of parameters):\n",
    "\n",
    "|model|description|data inputs|\n",
    "|---|---|---|\n",
    "|2|New Rosettav3|sand, silt, clay|\n",
    "|3|New Rosettav3|sand, silt, clay, bulk density|\n",
    "|4|New Rosettav3|sand, silt, clay, bulk density, theta at 33 kPa|\n",
    "|5|New Rosettav3|sand, silt, clay, bulk density, theta at 33 kPa and 1500 kPa|\n",
    "|102|Old Rosettav1|sand, silt, clay|\n",
    "|103|Old Rosettav1|sand, silt, clay, bulk density|\n",
    "|104|Old Rosettav1|sand, silt, clay, bulk density, theta at 33 kPa|\n",
    "|105|Old Rosettav1|sand, silt, clay, bulk density, theta at 33 kPa and 1500 kPa|\n",
    "\n",
    "Notes:\n",
    "- old Rosettav1 does not output Ks\n",
    "- input data must has dim(nvar, nsample) not the other way"
   ]
  },
  {
   "cell_type": "markdown",
   "metadata": {},
   "source": [
    "## get input from numpy array"
   ]
  },
  {
   "cell_type": "markdown",
   "metadata": {},
   "source": [
    "Need to transpose the data so that the array have the shape (nvar, nsample), where nvar is number of variables, nsample is number of samples. This is due to a Matlab convention"
   ]
  },
  {
   "cell_type": "code",
   "execution_count": 35,
   "metadata": {},
   "outputs": [],
   "source": [
    "def get_vgm_from_Rosetta(data, model_type):\n",
    "    with DB(host='localhost', user='root', db_name='Rosetta', sqlite_path=fname_sqlite) as db:\n",
    "        \n",
    "        #convert data from 1d array to nd matrix if necessary\n",
    "        if data.ndim ==1:\n",
    "            data = data.reshape(data.shape[0],1)\n",
    "        # choose the right model corresponding to data inputs\n",
    "#         model_type = 3\n",
    "        ptf_model=PTF_MODEL(model_type, db) \n",
    "        logging.info(f\"--Processing--\\n get van Genutchen parameters from Rosetta (model {model_type})\")\n",
    "        T0=T.time()\n",
    "        # with sum_data=False you get the raw output WITHOUT Summary statistics\n",
    "        try:\n",
    "            res_dict = ptf_model.predict(data, sum_data=True) \n",
    "        except:\n",
    "            logging.info(f\"data may be 1-D, try reshaping to (nvar,1)\")\n",
    "            \n",
    "\n",
    "        logging.info(f\"--Processing done-- \\n time spent:{T.time()-T0}s\")\n",
    "        vgm_name=res_dict['var_names']\n",
    "\n",
    "        # res_dict['sum_res_mean'] output log10 of VG-alpha,VG-n, and Ks\n",
    "        vgm_mean=res_dict['sum_res_mean']\n",
    "        vgm_new=np.stack((vgm_mean[0],vgm_mean[1],10**vgm_mean[2],10**vgm_mean[3],10**vgm_mean[4]))\n",
    "        # transpose to match the data input format\n",
    "        vgm_new=vgm_new.transpose()\n",
    "    #     logging.info(f'output van Genutchen parameters:')\n",
    "    #     logging.info(f'\\n|theta_r [cm^3/cm^3]|theta_s [cm^3/cm^3]|alpha [1/cm]| n [-] |Ks [cm/day]|\\n{vgm_new}')\n",
    "    return vgm_new"
   ]
  },
  {
   "cell_type": "code",
   "execution_count": 46,
   "metadata": {},
   "outputs": [],
   "source": [
    "cols = ['agg_sand_pct [%]', 'agg_silt_pct [%]', 'agg_clay_pct [%]', 'agg_bulk_density [g/cm^3]']\n",
    "\n",
    "vgm_header = ['theta_r [cm^3/cm^3]', 'theta_s [cm^3/cm^3]', 'alpha [1/cm]', 'n [-]', 'Rosetta_Ks [cm/day]']"
   ]
  },
  {
   "cell_type": "code",
   "execution_count": 77,
   "metadata": {},
   "outputs": [],
   "source": [
    "df = pd.read_csv(fname_mukey_agg)\n",
    "\n",
    "sub_df = df.dropna(subset = cols).copy()\n",
    "\n",
    "data = sub_df[cols].values.T"
   ]
  },
  {
   "cell_type": "code",
   "execution_count": 78,
   "metadata": {},
   "outputs": [
    {
     "name": "stderr",
     "output_type": "stream",
     "text": [
      "2020-10-22 10:26:05,560 - root - INFO: --Processing--\n",
      " get van Genutchen parameters from Rosetta (model 3)\n",
      "2020-10-22 10:26:12,101 - root - INFO: --Processing done-- \n",
      " time spent:6.540475845336914s\n"
     ]
    }
   ],
   "source": [
    "vgm = get_vgm_from_Rosetta(data, model_type = 3)"
   ]
  },
  {
   "cell_type": "code",
   "execution_count": 88,
   "metadata": {},
   "outputs": [],
   "source": [
    "vgm_df = pd.DataFrame(vgm, columns=vgm_header)\n",
    "\n",
    "vgm_df['mukey'] = sub_df['mukey'].values\n",
    "\n",
    "soil_vgm = pd.merge(df, vgm_df, how = 'outer', left_on = 'mukey', right_on = 'mukey')"
   ]
  },
  {
   "cell_type": "code",
   "execution_count": 93,
   "metadata": {},
   "outputs": [
    {
     "data": {
      "text/html": [
       "<div>\n",
       "<style scoped>\n",
       "    .dataframe tbody tr th:only-of-type {\n",
       "        vertical-align: middle;\n",
       "    }\n",
       "\n",
       "    .dataframe tbody tr th {\n",
       "        vertical-align: top;\n",
       "    }\n",
       "\n",
       "    .dataframe thead th {\n",
       "        text-align: right;\n",
       "    }\n",
       "</style>\n",
       "<table border=\"1\" class=\"dataframe\">\n",
       "  <thead>\n",
       "    <tr style=\"text-align: right;\">\n",
       "      <th></th>\n",
       "      <th>mukey</th>\n",
       "      <th>agg_Ksat [um/s]</th>\n",
       "      <th>agg_sand_pct [%]</th>\n",
       "      <th>agg_silt_pct [%]</th>\n",
       "      <th>agg_clay_pct [%]</th>\n",
       "      <th>agg_bulk_density [g/cm^3]</th>\n",
       "      <th>agg_porosity [-]</th>\n",
       "      <th>agg_soil_depth [cm]</th>\n",
       "      <th>theta_r [cm^3/cm^3]</th>\n",
       "      <th>theta_s [cm^3/cm^3]</th>\n",
       "      <th>alpha [1/cm]</th>\n",
       "      <th>n [-]</th>\n",
       "      <th>Rosetta_Ks [cm/day]</th>\n",
       "    </tr>\n",
       "  </thead>\n",
       "  <tbody>\n",
       "    <tr>\n",
       "      <th>count</th>\n",
       "      <td>1.105200e+04</td>\n",
       "      <td>10803.000000</td>\n",
       "      <td>10775.000000</td>\n",
       "      <td>10775.000000</td>\n",
       "      <td>10775.000000</td>\n",
       "      <td>10800.000000</td>\n",
       "      <td>10800.000000</td>\n",
       "      <td>10926.000000</td>\n",
       "      <td>10775.000000</td>\n",
       "      <td>10775.000000</td>\n",
       "      <td>10775.000000</td>\n",
       "      <td>10775.000000</td>\n",
       "      <td>10775.000000</td>\n",
       "    </tr>\n",
       "    <tr>\n",
       "      <th>mean</th>\n",
       "      <td>6.249032e+05</td>\n",
       "      <td>38.003839</td>\n",
       "      <td>47.652252</td>\n",
       "      <td>38.502113</td>\n",
       "      <td>13.860340</td>\n",
       "      <td>1.270232</td>\n",
       "      <td>0.520429</td>\n",
       "      <td>138.478500</td>\n",
       "      <td>0.076641</td>\n",
       "      <td>0.432358</td>\n",
       "      <td>0.010094</td>\n",
       "      <td>1.540344</td>\n",
       "      <td>105.719655</td>\n",
       "    </tr>\n",
       "    <tr>\n",
       "      <th>std</th>\n",
       "      <td>9.670093e+05</td>\n",
       "      <td>58.435521</td>\n",
       "      <td>22.229731</td>\n",
       "      <td>16.664495</td>\n",
       "      <td>9.328466</td>\n",
       "      <td>0.219458</td>\n",
       "      <td>0.082898</td>\n",
       "      <td>27.732305</td>\n",
       "      <td>0.018214</td>\n",
       "      <td>0.057227</td>\n",
       "      <td>0.006471</td>\n",
       "      <td>0.216495</td>\n",
       "      <td>140.450141</td>\n",
       "    </tr>\n",
       "    <tr>\n",
       "      <th>min</th>\n",
       "      <td>6.731000e+04</td>\n",
       "      <td>0.000000</td>\n",
       "      <td>4.178951</td>\n",
       "      <td>0.600000</td>\n",
       "      <td>0.310950</td>\n",
       "      <td>0.174211</td>\n",
       "      <td>0.177358</td>\n",
       "      <td>15.000000</td>\n",
       "      <td>0.044299</td>\n",
       "      <td>0.305283</td>\n",
       "      <td>0.002476</td>\n",
       "      <td>1.257640</td>\n",
       "      <td>3.355240</td>\n",
       "    </tr>\n",
       "    <tr>\n",
       "      <th>25%</th>\n",
       "      <td>7.142675e+04</td>\n",
       "      <td>9.000000</td>\n",
       "      <td>29.843421</td>\n",
       "      <td>26.087805</td>\n",
       "      <td>7.075336</td>\n",
       "      <td>1.191798</td>\n",
       "      <td>0.469835</td>\n",
       "      <td>135.333333</td>\n",
       "      <td>0.062847</td>\n",
       "      <td>0.393872</td>\n",
       "      <td>0.005229</td>\n",
       "      <td>1.450688</td>\n",
       "      <td>25.045671</td>\n",
       "    </tr>\n",
       "    <tr>\n",
       "      <th>50%</th>\n",
       "      <td>7.586550e+04</td>\n",
       "      <td>13.742105</td>\n",
       "      <td>46.700658</td>\n",
       "      <td>37.140235</td>\n",
       "      <td>10.401316</td>\n",
       "      <td>1.324538</td>\n",
       "      <td>0.499884</td>\n",
       "      <td>152.000000</td>\n",
       "      <td>0.071716</td>\n",
       "      <td>0.420020</td>\n",
       "      <td>0.007681</td>\n",
       "      <td>1.501255</td>\n",
       "      <td>54.034060</td>\n",
       "    </tr>\n",
       "    <tr>\n",
       "      <th>75%</th>\n",
       "      <td>7.002672e+05</td>\n",
       "      <td>37.262874</td>\n",
       "      <td>66.128991</td>\n",
       "      <td>49.698473</td>\n",
       "      <td>20.203316</td>\n",
       "      <td>1.404278</td>\n",
       "      <td>0.549817</td>\n",
       "      <td>152.000000</td>\n",
       "      <td>0.089528</td>\n",
       "      <td>0.455712</td>\n",
       "      <td>0.013704</td>\n",
       "      <td>1.544304</td>\n",
       "      <td>127.898503</td>\n",
       "    </tr>\n",
       "    <tr>\n",
       "      <th>max</th>\n",
       "      <td>3.168838e+06</td>\n",
       "      <td>488.000000</td>\n",
       "      <td>97.900000</td>\n",
       "      <td>76.659613</td>\n",
       "      <td>65.230262</td>\n",
       "      <td>2.180000</td>\n",
       "      <td>0.934260</td>\n",
       "      <td>367.700000</td>\n",
       "      <td>0.172738</td>\n",
       "      <td>0.770914</td>\n",
       "      <td>0.036698</td>\n",
       "      <td>3.868628</td>\n",
       "      <td>1356.422222</td>\n",
       "    </tr>\n",
       "  </tbody>\n",
       "</table>\n",
       "</div>"
      ],
      "text/plain": [
       "              mukey  agg_Ksat [um/s]  agg_sand_pct [%]  agg_silt_pct [%]  \\\n",
       "count  1.105200e+04     10803.000000      10775.000000      10775.000000   \n",
       "mean   6.249032e+05        38.003839         47.652252         38.502113   \n",
       "std    9.670093e+05        58.435521         22.229731         16.664495   \n",
       "min    6.731000e+04         0.000000          4.178951          0.600000   \n",
       "25%    7.142675e+04         9.000000         29.843421         26.087805   \n",
       "50%    7.586550e+04        13.742105         46.700658         37.140235   \n",
       "75%    7.002672e+05        37.262874         66.128991         49.698473   \n",
       "max    3.168838e+06       488.000000         97.900000         76.659613   \n",
       "\n",
       "       agg_clay_pct [%]  agg_bulk_density [g/cm^3]  agg_porosity [-]  \\\n",
       "count      10775.000000               10800.000000      10800.000000   \n",
       "mean          13.860340                   1.270232          0.520429   \n",
       "std            9.328466                   0.219458          0.082898   \n",
       "min            0.310950                   0.174211          0.177358   \n",
       "25%            7.075336                   1.191798          0.469835   \n",
       "50%           10.401316                   1.324538          0.499884   \n",
       "75%           20.203316                   1.404278          0.549817   \n",
       "max           65.230262                   2.180000          0.934260   \n",
       "\n",
       "       agg_soil_depth [cm]  theta_r [cm^3/cm^3]  theta_s [cm^3/cm^3]  \\\n",
       "count         10926.000000         10775.000000         10775.000000   \n",
       "mean            138.478500             0.076641             0.432358   \n",
       "std              27.732305             0.018214             0.057227   \n",
       "min              15.000000             0.044299             0.305283   \n",
       "25%             135.333333             0.062847             0.393872   \n",
       "50%             152.000000             0.071716             0.420020   \n",
       "75%             152.000000             0.089528             0.455712   \n",
       "max             367.700000             0.172738             0.770914   \n",
       "\n",
       "       alpha [1/cm]         n [-]  Rosetta_Ks [cm/day]  \n",
       "count  10775.000000  10775.000000         10775.000000  \n",
       "mean       0.010094      1.540344           105.719655  \n",
       "std        0.006471      0.216495           140.450141  \n",
       "min        0.002476      1.257640             3.355240  \n",
       "25%        0.005229      1.450688            25.045671  \n",
       "50%        0.007681      1.501255            54.034060  \n",
       "75%        0.013704      1.544304           127.898503  \n",
       "max        0.036698      3.868628          1356.422222  "
      ]
     },
     "execution_count": 93,
     "metadata": {},
     "output_type": "execute_result"
    }
   ],
   "source": [
    "soil_vgm.describe()"
   ]
  },
  {
   "cell_type": "code",
   "execution_count": 105,
   "metadata": {},
   "outputs": [],
   "source": [
    "soil_vgm['agg_Ksat [m/s]'] = soil_vgm['agg_Ksat [um/s]']*1e-6\n",
    "soil_vgm['Rosetta_Ks [m/s]'] = soil_vgm['Rosetta_Ks [cm/day]']/100/86400"
   ]
  },
  {
   "cell_type": "code",
   "execution_count": 107,
   "metadata": {},
   "outputs": [],
   "source": [
    "soil_vgm.to_csv(fname_soil_parameters, index= False)"
   ]
  },
  {
   "cell_type": "markdown",
   "metadata": {},
   "source": [
    "**compare Ks**"
   ]
  },
  {
   "cell_type": "code",
   "execution_count": 104,
   "metadata": {},
   "outputs": [
    {
     "data": {
      "text/plain": [
       "Text(0, 0.5, 'Rosetta Ks [m/d]')"
      ]
     },
     "execution_count": 104,
     "metadata": {},
     "output_type": "execute_result"
    },
    {
     "data": {
      "image/png": "[encoded data removed]",
      "text/plain": [
       "<Figure size 432x288 with 1 Axes>"
      ]
     },
     "metadata": {
      "needs_background": "light"
     },
     "output_type": "display_data"
    }
   ],
   "source": [
    "fig, ax = plt.subplots(1,1)\n",
    "# convert to m/d\n",
    "ax.plot(soil_vgm['agg_Ksat [um/s]']*0.0864, soil_vgm['Rosetta_Ks [cm/day]']/100, 'o')\n",
    "ax.plot(np.linspace(0,40,100), np.linspace(0,40,100), 'r-')\n",
    "ax.set_xlabel('agg_Ks [m/d]')\n",
    "ax.set_ylabel('Rosetta Ks [m/d]')"
   ]
  },
  {
   "cell_type": "markdown",
   "metadata": {},
   "source": [
    "**soil depth hist**"
   ]
  },
  {
   "cell_type": "code",
   "execution_count": 108,
   "metadata": {},
   "outputs": [
    {
     "data": {
      "text/plain": [
       "array([[<AxesSubplot:title={'center':'agg_soil_depth [cm]'}>]],\n",
       "      dtype=object)"
      ]
     },
     "execution_count": 108,
     "metadata": {},
     "output_type": "execute_result"
    },
    {
     "data": {
      "image/png": "[encoded data removed]",
      "text/plain": [
       "<Figure size 432x288 with 1 Axes>"
      ]
     },
     "metadata": {
      "needs_background": "light"
     },
     "output_type": "display_data"
    }
   ],
   "source": [
    "soil_vgm.hist(column='agg_soil_depth [cm]')"
   ]
  },
  {
   "cell_type": "markdown",
   "metadata": {},
   "source": [
    "## get input from txt file"
   ]
  },
  {
   "cell_type": "code",
   "execution_count": 8,
   "metadata": {},
   "outputs": [],
   "source": [
    "# Need to transpose the data so that the array have the shape (nvar, nsample), \n",
    "# where nvar is number of variables, nsample is number of samples. \n",
    "# This is due to a Matlab convention\n",
    "data = np.genfromtxt(fname_soil_data, delimiter='',dtype=np.float).transpose()"
   ]
  },
  {
   "cell_type": "code",
   "execution_count": 23,
   "metadata": {},
   "outputs": [
    {
     "name": "stderr",
     "output_type": "stream",
     "text": [
      "2020-10-21 12:13:24,955 - root - INFO: Getting models from database\n",
      "2020-10-21 12:13:24,955 - root - INFO: Getting models from database, done (1.1920928955078125e-06 s)\n",
      "2020-10-21 12:13:24,956 - root - INFO: import soil data \n",
      " |%sand|%silt|%clay|bulk density [g/cm^3]|:\n",
      " [[54.49 30.16 15.35  1.2 ]\n",
      " [45.55 26.42 28.03  1.1 ]\n",
      " [37.91 30.98 31.11  1.  ]\n",
      " [20.   30.   50.    1.3 ]\n",
      " [80.   10.   10.    1.28]]\n",
      "2020-10-21 12:13:24,956 - root - INFO: --Processing--\n",
      " get van Genutchen parameters from Rosetta\n",
      "2020-10-21 12:13:24,983 - root - INFO: --Processing done-- \n",
      " time spent:0.02631688117980957s\n",
      "2020-10-21 12:13:24,983 - root - INFO: output van Genutchen parameters:\n",
      "2020-10-21 12:13:24,984 - root - INFO: \n",
      "|theta_r [cm^3/cm^3]|theta_s [cm^3/cm^3]|alpha [1/cm]| n [-] |Ks [cm/day]|\n",
      "[[8.04259881e-02 4.46880027e-01 9.24956604e-03 1.44944665e+00\n",
      "  6.16741725e+01]\n",
      " [1.04314325e-01 5.00473066e-01 8.53579414e-03 1.37913360e+00\n",
      "  5.91273142e+01]\n",
      " [1.10398192e-01 5.32456278e-01 7.19165074e-03 1.37984665e+00\n",
      "  8.21426477e+01]\n",
      " [1.28337822e-01 4.92091727e-01 8.48478889e-03 1.29882047e+00\n",
      "  1.72745378e+01]\n",
      " [6.90657427e-02 4.36620541e-01 1.91505438e-02 1.64967916e+00\n",
      "  1.71638625e+02]]\n"
     ]
    }
   ],
   "source": [
    "print_stats = False\n",
    "with DB(host='localhost', user='root', db_name='Rosetta', sqlite_path=fname_sqlite) as db:\n",
    "\n",
    "    logging.info(\"Getting models from database\")\n",
    "    T0=T.time()\n",
    "\n",
    "    logging.info(\"Getting models from database, done (%s s)\" % (T.time()-T0))\n",
    "\n",
    "    logging.info(f'import soil data \\n |%sand|%silt|%clay|bulk density [g/cm^3]|:\\n {data.T}')\n",
    "\n",
    "    T0=T.time()\n",
    "    logging.info(\"--Processing--\\n get van Genutchen parameters from Rosetta\")\n",
    "\n",
    "    # with sum_data=False you get the raw output WITHOUT Summary statistics\n",
    "    res_dict = ptf_model.predict(data,sum_data=True) \n",
    "    \n",
    "    \n",
    "\n",
    "    logging.info(f\"--Processing done-- \\n time spent:{T.time()-T0}s\")\n",
    "    vgm_name=res_dict['var_names']\n",
    "\n",
    "    # res_dict['sum_res_mean'] output log10 of VG-alpha,VG-n, and Ks\n",
    "    vgm_mean=res_dict['sum_res_mean']\n",
    "    vgm_new=np.stack((vgm_mean[0],vgm_mean[1],10**vgm_mean[2],10**vgm_mean[3],10**vgm_mean[4]))\n",
    "    # transpose to match the data input format\n",
    "    vgm_new=vgm_new.transpose()\n",
    "    logging.info(f'output van Genutchen parameters:')\n",
    "    logging.info(f'\\n|theta_r [cm^3/cm^3]|theta_s [cm^3/cm^3]|alpha [1/cm]| n [-] |Ks [cm/day]|\\n{vgm_new}')\n",
    "    \n",
    "    if print_stats:\n",
    "        logging.info(f'STDV:\\n{res_dict[\"sum_res_std\"]}')\n",
    "        logging.info(f'SKEW:\\n{res_dict[\"sum_res_skew\"]}')\n",
    "        logging.info(f'KURT:\\n{res_dict[\"sum_res_kurt\"]}')\n",
    "        logging.info(f'COV:\\n{res_dict[\"sum_res_cov\"]}')\n",
    "    \n",
    "    np.savetxt(fname_vgm_output, vgm_new, delimiter=',',fmt='%f') "
   ]
  },
  {
   "cell_type": "markdown",
   "metadata": {},
   "source": [
    "# get depth to bedrock"
   ]
  },
  {
   "cell_type": "markdown",
   "metadata": {},
   "source": [
    "Most of the SSURGO soil data has depth < 2m and does not reflect the true depth-to-bedrock.\n",
    "\n",
    "Options:\n",
    "\n",
    "1. SSURGO (cut at 2m?)\n",
    "2. SoilGrid, 250m, global map\n",
    "3. "
   ]
  },
  {
   "cell_type": "markdown",
   "metadata": {},
   "source": [
    "## get DTB from SSURGO"
   ]
  },
  {
   "cell_type": "code",
   "execution_count": 109,
   "metadata": {},
   "outputs": [],
   "source": [
    "soil_para = pd.read_csv(fname_soil_parameters)"
   ]
  },
  {
   "cell_type": "code",
   "execution_count": 118,
   "metadata": {},
   "outputs": [],
   "source": [
    "df_muaggatt = gpd.read_file(fname_soil_gdb, driver='FileGDB', layer='muaggatt')\n",
    "\n",
    "df_muaggatt.rename(columns = {'brockdepmin':'bedrock_depth_min_SSURGO [cm]'}, inplace = True)"
   ]
  },
  {
   "cell_type": "code",
   "execution_count": 124,
   "metadata": {},
   "outputs": [],
   "source": [
    "sub_df = df_muaggatt[['mukey', 'bedrock_depth_min_SSURGO [cm]']].copy()\n",
    "\n",
    "sub_df['mukey'] = sub_df['mukey'].apply(int)"
   ]
  },
  {
   "cell_type": "code",
   "execution_count": 129,
   "metadata": {},
   "outputs": [],
   "source": [
    "merged_df = pd.merge(soil_para, sub_df, how = 'outer', left_on = 'mukey', right_on = 'mukey')\n",
    "\n",
    "merged_df.to_csv(fname_soil_parameters, index= False)"
   ]
  },
  {
   "cell_type": "markdown",
   "metadata": {},
   "source": [
    "**DTB hist**"
   ]
  },
  {
   "cell_type": "code",
   "execution_count": 130,
   "metadata": {},
   "outputs": [
    {
     "data": {
      "text/plain": [
       "array([[<AxesSubplot:title={'center':'bedrock_depth_min_SSURGO [cm]'}>]],\n",
       "      dtype=object)"
      ]
     },
     "execution_count": 130,
     "metadata": {},
     "output_type": "execute_result"
    },
    {
     "data": {
      "image/png": "[encoded data removed]",
      "text/plain": [
       "<Figure size 432x288 with 1 Axes>"
      ]
     },
     "metadata": {
      "needs_background": "light"
     },
     "output_type": "display_data"
    }
   ],
   "source": [
    "merged_df.hist(column='bedrock_depth_min_SSURGO [cm]')"
   ]
  },
  {
   "cell_type": "markdown",
   "metadata": {},
   "source": [
    "## get DTB from SoilGrids"
   ]
  },
  {
   "cell_type": "code",
   "execution_count": null,
   "metadata": {},
   "outputs": [],
   "source": []
  }
 ],
 "metadata": {
  "kernelspec": {
   "display_name": "workflow",
   "language": "python",
   "name": "watershed_workflow"
  },
  "language_info": {
   "codemirror_mode": {
    "name": "ipython",
    "version": 3
   },
   "file_extension": ".py",
   "mimetype": "text/x-python",
   "name": "python",
   "nbconvert_exporter": "python",
   "pygments_lexer": "ipython3",
   "version": "3.8.3"
  },
  "toc-autonumbering": true
 },
 "nbformat": 4,
 "nbformat_minor": 4
}
